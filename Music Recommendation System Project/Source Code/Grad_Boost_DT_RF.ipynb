{
 "cells": [
  {
   "cell_type": "code",
   "execution_count": 1,
   "metadata": {},
   "outputs": [],
   "source": [
    "from pyspark.sql import SparkSession    # main entry point for DataFrame and SQL functionality\n",
    "from pyspark.sql.functions import col    # for returning a column based on a given column name\n",
    "from pyspark.sql.functions import lit    # for adding a new column to PySpark DataFrame\n",
    "from pyspark.ml.classification import LogisticRegression    # for classification model\n",
    "from pyspark.ml.feature import OneHotEncoder, StringIndexer, VectorAssembler    # for preparing data for classification\n",
    "from pyspark.ml.evaluation import MulticlassClassificationEvaluator    # for evaluating classification models\n",
    "from pyspark.ml import Pipeline\n",
    "import pandas as pd   # for data frames\n",
    "import numpy as np    # for arrays\n",
    "import time           # for timing cells  \n",
    "import matplotlib.pyplot as plt # plotting graphs"
   ]
  },
  {
   "cell_type": "code",
   "execution_count": 2,
   "metadata": {},
   "outputs": [
    {
     "data": {
      "text/html": [
       "\n",
       "            <div>\n",
       "                <p><b>SparkSession - hive</b></p>\n",
       "                \n",
       "        <div>\n",
       "            <p><b>SparkContext</b></p>\n",
       "\n",
       "            <p><a href=\"http://prashant.myfiosgateway.com:4040\">Spark UI</a></p>\n",
       "\n",
       "            <dl>\n",
       "              <dt>Version</dt>\n",
       "                <dd><code>v3.0.3</code></dd>\n",
       "              <dt>Master</dt>\n",
       "                <dd><code>local[*]</code></dd>\n",
       "              <dt>AppName</dt>\n",
       "                <dd><code>PySparkShell</code></dd>\n",
       "            </dl>\n",
       "        </div>\n",
       "        \n",
       "            </div>\n",
       "        "
      ],
      "text/plain": [
       "<pyspark.sql.session.SparkSession at 0x1f0e56167b8>"
      ]
     },
     "execution_count": 2,
     "metadata": {},
     "output_type": "execute_result"
    }
   ],
   "source": [
    "# Decision Tree\n",
    "from pyspark.ml.classification import DecisionTreeClassifier\n",
    "\n",
    "spark = SparkSession.builder.appName('Decision_Tree').getOrCreate()\n",
    "spark"
   ]
  },
  {
   "cell_type": "code",
   "execution_count": 3,
   "metadata": {},
   "outputs": [
    {
     "data": {
      "text/plain": [
       "6000"
      ]
     },
     "execution_count": 3,
     "metadata": {},
     "output_type": "execute_result"
    }
   ],
   "source": [
    "# Use file created in the earlier HW to model Decision Tree.\n",
    "\n",
    "ratings_df = spark.read.csv('ratings.csv', header=True, inferSchema=True)   \n",
    "ratings_df.count()"
   ]
  },
  {
   "cell_type": "code",
   "execution_count": 4,
   "metadata": {},
   "outputs": [
    {
     "name": "stdout",
     "output_type": "stream",
     "text": [
      "root\n",
      " |-- userID: integer (nullable = true)\n",
      " |-- trackID: integer (nullable = true)\n",
      " |-- ground_truth: integer (nullable = true)\n",
      " |-- album_score: integer (nullable = true)\n",
      " |-- artist_score: integer (nullable = true)\n",
      " |-- genre_score: double (nullable = true)\n",
      "\n"
     ]
    }
   ],
   "source": [
    "ratings_columns = ratings_df.columns\n",
    "pd.DataFrame(ratings_df.take(6000), columns=ratings_columns).groupby('ground_truth').count()\n",
    "ratings_df.printSchema()"
   ]
  },
  {
   "cell_type": "code",
   "execution_count": 5,
   "metadata": {},
   "outputs": [],
   "source": [
    "feature_columns = ['album_score', 'artist_score', 'genre_score']\n",
    "stages = []\n",
    "assembler_inputs = feature_columns\n",
    "assembler = VectorAssembler(inputCols=assembler_inputs, outputCol='features')    # merges multiple columns into a vector column\n",
    "stages += [assembler]\n",
    "\n",
    "label_column = 'ground_truth'\n",
    "label_string_idx = StringIndexer(inputCol=label_column, outputCol='label')\n",
    "stages += [label_string_idx]\n",
    "\n",
    "pipeline = Pipeline(stages=stages)               # initialize the pipeline\n",
    "pipeline_model = pipeline.fit(ratings_df)        # fit the pipeline model\n",
    "train_df = pipeline_model.transform(ratings_df)  # transform the input DF with the pipeline model"
   ]
  },
  {
   "cell_type": "code",
   "execution_count": 6,
   "metadata": {},
   "outputs": [
    {
     "name": "stdout",
     "output_type": "stream",
     "text": [
      "root\n",
      " |-- label: double (nullable = false)\n",
      " |-- features: vector (nullable = true)\n",
      " |-- userID: integer (nullable = true)\n",
      " |-- trackID: integer (nullable = true)\n",
      " |-- ground_truth: integer (nullable = true)\n",
      " |-- album_score: integer (nullable = true)\n",
      " |-- artist_score: integer (nullable = true)\n",
      " |-- genre_score: double (nullable = true)\n",
      "\n"
     ]
    }
   ],
   "source": [
    "selected_columns = ['label', 'features'] + ratings_columns\n",
    "train_df = train_df.select(selected_columns)\n",
    "train_df.printSchema()"
   ]
  },
  {
   "cell_type": "code",
   "execution_count": 7,
   "metadata": {},
   "outputs": [
    {
     "data": {
      "text/html": [
       "<div>\n",
       "<style scoped>\n",
       "    .dataframe tbody tr th:only-of-type {\n",
       "        vertical-align: middle;\n",
       "    }\n",
       "\n",
       "    .dataframe tbody tr th {\n",
       "        vertical-align: top;\n",
       "    }\n",
       "\n",
       "    .dataframe thead th {\n",
       "        text-align: right;\n",
       "    }\n",
       "</style>\n",
       "<table border=\"1\" class=\"dataframe\">\n",
       "  <thead>\n",
       "    <tr style=\"text-align: right;\">\n",
       "      <th></th>\n",
       "      <th>0</th>\n",
       "      <th>1</th>\n",
       "      <th>2</th>\n",
       "      <th>3</th>\n",
       "      <th>4</th>\n",
       "    </tr>\n",
       "  </thead>\n",
       "  <tbody>\n",
       "    <tr>\n",
       "      <th>label</th>\n",
       "      <td>1</td>\n",
       "      <td>1</td>\n",
       "      <td>0</td>\n",
       "      <td>0</td>\n",
       "      <td>1</td>\n",
       "    </tr>\n",
       "    <tr>\n",
       "      <th>features</th>\n",
       "      <td>[90.0, 50.0, 85.0]</td>\n",
       "      <td>[90.0, 0.0, 85.0]</td>\n",
       "      <td>(0.0, 0.0, 0.0)</td>\n",
       "      <td>[0.0, 0.0, 90.0]</td>\n",
       "      <td>[90.0, 50.0, 85.0]</td>\n",
       "    </tr>\n",
       "    <tr>\n",
       "      <th>userID</th>\n",
       "      <td>200031</td>\n",
       "      <td>200031</td>\n",
       "      <td>200031</td>\n",
       "      <td>200031</td>\n",
       "      <td>200031</td>\n",
       "    </tr>\n",
       "    <tr>\n",
       "      <th>trackID</th>\n",
       "      <td>30877</td>\n",
       "      <td>8244</td>\n",
       "      <td>130183</td>\n",
       "      <td>198762</td>\n",
       "      <td>34503</td>\n",
       "    </tr>\n",
       "    <tr>\n",
       "      <th>ground_truth</th>\n",
       "      <td>1</td>\n",
       "      <td>1</td>\n",
       "      <td>0</td>\n",
       "      <td>0</td>\n",
       "      <td>1</td>\n",
       "    </tr>\n",
       "    <tr>\n",
       "      <th>album_score</th>\n",
       "      <td>90</td>\n",
       "      <td>90</td>\n",
       "      <td>0</td>\n",
       "      <td>0</td>\n",
       "      <td>90</td>\n",
       "    </tr>\n",
       "    <tr>\n",
       "      <th>artist_score</th>\n",
       "      <td>50</td>\n",
       "      <td>0</td>\n",
       "      <td>0</td>\n",
       "      <td>0</td>\n",
       "      <td>50</td>\n",
       "    </tr>\n",
       "    <tr>\n",
       "      <th>genre_score</th>\n",
       "      <td>85</td>\n",
       "      <td>85</td>\n",
       "      <td>0</td>\n",
       "      <td>90</td>\n",
       "      <td>85</td>\n",
       "    </tr>\n",
       "  </tbody>\n",
       "</table>\n",
       "</div>"
      ],
      "text/plain": [
       "                               0                  1                2  \\\n",
       "label                          1                  1                0   \n",
       "features      [90.0, 50.0, 85.0]  [90.0, 0.0, 85.0]  (0.0, 0.0, 0.0)   \n",
       "userID                    200031             200031           200031   \n",
       "trackID                    30877               8244           130183   \n",
       "ground_truth                   1                  1                0   \n",
       "album_score                   90                 90                0   \n",
       "artist_score                  50                  0                0   \n",
       "genre_score                   85                 85                0   \n",
       "\n",
       "                             3                   4  \n",
       "label                        0                   1  \n",
       "features      [0.0, 0.0, 90.0]  [90.0, 50.0, 85.0]  \n",
       "userID                  200031              200031  \n",
       "trackID                 198762               34503  \n",
       "ground_truth                 0                   1  \n",
       "album_score                  0                  90  \n",
       "artist_score                 0                  50  \n",
       "genre_score                 90                  85  "
      ]
     },
     "execution_count": 7,
     "metadata": {},
     "output_type": "execute_result"
    }
   ],
   "source": [
    "pd.DataFrame(train_df.take(5), columns=train_df.columns).transpose()"
   ]
  },
  {
   "cell_type": "code",
   "execution_count": 8,
   "metadata": {},
   "outputs": [],
   "source": [
    "train_df, test_df = train_df.randomSplit([0.7, 0.3], seed=2021)"
   ]
  },
  {
   "cell_type": "code",
   "execution_count": 9,
   "metadata": {},
   "outputs": [
    {
     "name": "stdout",
     "output_type": "stream",
     "text": [
      "Training Dataset Count: 4194\n",
      "Test Dataset Count: 1806\n"
     ]
    }
   ],
   "source": [
    "print(f'Training Dataset Count: {train_df.count()}')\n",
    "print(f'Test Dataset Count: {test_df.count()}')"
   ]
  },
  {
   "cell_type": "code",
   "execution_count": 10,
   "metadata": {},
   "outputs": [
    {
     "data": {
      "text/plain": [
       "120000"
      ]
     },
     "execution_count": 10,
     "metadata": {},
     "output_type": "execute_result"
    }
   ],
   "source": [
    "# Load and prepare prediction file\n",
    "\n",
    "prediction_df = spark.read.csv('genre_test.txt', sep='|', inferSchema=True)    # inferSchema scans csv twice to get datatype of each column\n",
    "prediction_df = prediction_df.withColumnRenamed(\"_c0\", \"userID\").withColumnRenamed(\"_c1\", \"trackID\").withColumnRenamed(\"_c2\", \"albumScore\").withColumnRenamed(\"_c3\", \"artistScore\").withColumnRenamed(\"_c4\", \"genreScore\")\n",
    "prediction_df.count()"
   ]
  },
  {
   "cell_type": "code",
   "execution_count": 11,
   "metadata": {},
   "outputs": [
    {
     "data": {
      "text/plain": [
       "['userID', 'trackID', 'albumScore', 'artistScore', 'genreScore']"
      ]
     },
     "execution_count": 11,
     "metadata": {},
     "output_type": "execute_result"
    }
   ],
   "source": [
    "prediction_columns = prediction_df.columns\n",
    "prediction_columns"
   ]
  },
  {
   "cell_type": "code",
   "execution_count": 12,
   "metadata": {},
   "outputs": [
    {
     "data": {
      "text/html": [
       "<div>\n",
       "<style scoped>\n",
       "    .dataframe tbody tr th:only-of-type {\n",
       "        vertical-align: middle;\n",
       "    }\n",
       "\n",
       "    .dataframe tbody tr th {\n",
       "        vertical-align: top;\n",
       "    }\n",
       "\n",
       "    .dataframe thead th {\n",
       "        text-align: right;\n",
       "    }\n",
       "</style>\n",
       "<table border=\"1\" class=\"dataframe\">\n",
       "  <thead>\n",
       "    <tr style=\"text-align: right;\">\n",
       "      <th></th>\n",
       "      <th>0</th>\n",
       "      <th>1</th>\n",
       "      <th>2</th>\n",
       "      <th>3</th>\n",
       "      <th>4</th>\n",
       "    </tr>\n",
       "  </thead>\n",
       "  <tbody>\n",
       "    <tr>\n",
       "      <th>userID</th>\n",
       "      <td>199810</td>\n",
       "      <td>199810</td>\n",
       "      <td>199810</td>\n",
       "      <td>199810</td>\n",
       "      <td>199810</td>\n",
       "    </tr>\n",
       "    <tr>\n",
       "      <th>trackID</th>\n",
       "      <td>208019</td>\n",
       "      <td>74139</td>\n",
       "      <td>9903</td>\n",
       "      <td>242681</td>\n",
       "      <td>18515</td>\n",
       "    </tr>\n",
       "    <tr>\n",
       "      <th>albumScore</th>\n",
       "      <td>0</td>\n",
       "      <td>0</td>\n",
       "      <td>0</td>\n",
       "      <td>0</td>\n",
       "      <td>0</td>\n",
       "    </tr>\n",
       "    <tr>\n",
       "      <th>artistScore</th>\n",
       "      <td>0</td>\n",
       "      <td>0</td>\n",
       "      <td>0</td>\n",
       "      <td>0</td>\n",
       "      <td>70</td>\n",
       "    </tr>\n",
       "    <tr>\n",
       "      <th>genreScore</th>\n",
       "      <td>0</td>\n",
       "      <td>80</td>\n",
       "      <td>0</td>\n",
       "      <td>0</td>\n",
       "      <td>0</td>\n",
       "    </tr>\n",
       "    <tr>\n",
       "      <th>prediction</th>\n",
       "      <td>0</td>\n",
       "      <td>0</td>\n",
       "      <td>0</td>\n",
       "      <td>0</td>\n",
       "      <td>0</td>\n",
       "    </tr>\n",
       "  </tbody>\n",
       "</table>\n",
       "</div>"
      ],
      "text/plain": [
       "                  0       1       2       3       4\n",
       "userID       199810  199810  199810  199810  199810\n",
       "trackID      208019   74139    9903  242681   18515\n",
       "albumScore        0       0       0       0       0\n",
       "artistScore       0       0       0       0      70\n",
       "genreScore        0      80       0       0       0\n",
       "prediction        0       0       0       0       0"
      ]
     },
     "execution_count": 12,
     "metadata": {},
     "output_type": "execute_result"
    }
   ],
   "source": [
    "prediction_df = prediction_df.withColumn('prediction', lit('0'))\n",
    "pd.DataFrame(prediction_df.take(5), columns=prediction_df.columns).transpose()"
   ]
  },
  {
   "cell_type": "code",
   "execution_count": 13,
   "metadata": {},
   "outputs": [
    {
     "name": "stdout",
     "output_type": "stream",
     "text": [
      "root\n",
      " |-- userID: integer (nullable = true)\n",
      " |-- trackID: integer (nullable = true)\n",
      " |-- albumScore: integer (nullable = true)\n",
      " |-- artistScore: integer (nullable = true)\n",
      " |-- genreScore: double (nullable = true)\n",
      " |-- prediction: string (nullable = false)\n",
      "\n"
     ]
    }
   ],
   "source": [
    "prediction_df.printSchema()\n",
    "feature_columns = ['albumScore', 'artistScore', 'genreScore']\n",
    "stages = []\n",
    "assembler_inputs = feature_columns\n",
    "assembler = VectorAssembler(inputCols=assembler_inputs, outputCol='features')    # merges multiple columns into a vector column\n",
    "stages += [assembler]"
   ]
  },
  {
   "cell_type": "code",
   "execution_count": 14,
   "metadata": {},
   "outputs": [
    {
     "name": "stdout",
     "output_type": "stream",
     "text": [
      "root\n",
      " |-- label: double (nullable = false)\n",
      " |-- features: vector (nullable = true)\n",
      " |-- userID: integer (nullable = true)\n",
      " |-- trackID: integer (nullable = true)\n",
      " |-- albumScore: integer (nullable = true)\n",
      " |-- artistScore: integer (nullable = true)\n",
      " |-- genreScore: double (nullable = true)\n",
      "\n"
     ]
    }
   ],
   "source": [
    "label_column = 'prediction'\n",
    "label_string_idx = StringIndexer(inputCol=label_column, outputCol='label')\n",
    "stages += [label_string_idx]\n",
    "\n",
    "prediction_pipeline = Pipeline(stages=stages)                       # initialize the pipeline\n",
    "prediction_pipeline_model = prediction_pipeline.fit(prediction_df)  # fit the pipeline model\n",
    "prediction_df = prediction_pipeline_model.transform(prediction_df)  # transform the input DF with the pipeline model\n",
    "\n",
    "selected_columns = ['label', 'features'] + prediction_columns\n",
    "prediction_df = prediction_df.select(selected_columns)\n",
    "prediction_df.printSchema()"
   ]
  },
  {
   "cell_type": "code",
   "execution_count": 15,
   "metadata": {},
   "outputs": [
    {
     "data": {
      "text/html": [
       "<div>\n",
       "<style scoped>\n",
       "    .dataframe tbody tr th:only-of-type {\n",
       "        vertical-align: middle;\n",
       "    }\n",
       "\n",
       "    .dataframe tbody tr th {\n",
       "        vertical-align: top;\n",
       "    }\n",
       "\n",
       "    .dataframe thead th {\n",
       "        text-align: right;\n",
       "    }\n",
       "</style>\n",
       "<table border=\"1\" class=\"dataframe\">\n",
       "  <thead>\n",
       "    <tr style=\"text-align: right;\">\n",
       "      <th></th>\n",
       "      <th>0</th>\n",
       "      <th>1</th>\n",
       "      <th>2</th>\n",
       "      <th>3</th>\n",
       "      <th>4</th>\n",
       "    </tr>\n",
       "  </thead>\n",
       "  <tbody>\n",
       "    <tr>\n",
       "      <th>label</th>\n",
       "      <td>0</td>\n",
       "      <td>0</td>\n",
       "      <td>0</td>\n",
       "      <td>0</td>\n",
       "      <td>0</td>\n",
       "    </tr>\n",
       "    <tr>\n",
       "      <th>features</th>\n",
       "      <td>(0.0, 0.0, 0.0)</td>\n",
       "      <td>[0.0, 0.0, 80.0]</td>\n",
       "      <td>(0.0, 0.0, 0.0)</td>\n",
       "      <td>(0.0, 0.0, 0.0)</td>\n",
       "      <td>[0.0, 70.0, 0.0]</td>\n",
       "    </tr>\n",
       "    <tr>\n",
       "      <th>userID</th>\n",
       "      <td>199810</td>\n",
       "      <td>199810</td>\n",
       "      <td>199810</td>\n",
       "      <td>199810</td>\n",
       "      <td>199810</td>\n",
       "    </tr>\n",
       "    <tr>\n",
       "      <th>trackID</th>\n",
       "      <td>208019</td>\n",
       "      <td>74139</td>\n",
       "      <td>9903</td>\n",
       "      <td>242681</td>\n",
       "      <td>18515</td>\n",
       "    </tr>\n",
       "    <tr>\n",
       "      <th>albumScore</th>\n",
       "      <td>0</td>\n",
       "      <td>0</td>\n",
       "      <td>0</td>\n",
       "      <td>0</td>\n",
       "      <td>0</td>\n",
       "    </tr>\n",
       "    <tr>\n",
       "      <th>artistScore</th>\n",
       "      <td>0</td>\n",
       "      <td>0</td>\n",
       "      <td>0</td>\n",
       "      <td>0</td>\n",
       "      <td>70</td>\n",
       "    </tr>\n",
       "    <tr>\n",
       "      <th>genreScore</th>\n",
       "      <td>0</td>\n",
       "      <td>80</td>\n",
       "      <td>0</td>\n",
       "      <td>0</td>\n",
       "      <td>0</td>\n",
       "    </tr>\n",
       "  </tbody>\n",
       "</table>\n",
       "</div>"
      ],
      "text/plain": [
       "                           0                 1                2  \\\n",
       "label                      0                 0                0   \n",
       "features     (0.0, 0.0, 0.0)  [0.0, 0.0, 80.0]  (0.0, 0.0, 0.0)   \n",
       "userID                199810            199810           199810   \n",
       "trackID               208019             74139             9903   \n",
       "albumScore                 0                 0                0   \n",
       "artistScore                0                 0                0   \n",
       "genreScore                 0                80                0   \n",
       "\n",
       "                           3                 4  \n",
       "label                      0                 0  \n",
       "features     (0.0, 0.0, 0.0)  [0.0, 70.0, 0.0]  \n",
       "userID                199810            199810  \n",
       "trackID               242681             18515  \n",
       "albumScore                 0                 0  \n",
       "artistScore                0                70  \n",
       "genreScore                 0                 0  "
      ]
     },
     "execution_count": 15,
     "metadata": {},
     "output_type": "execute_result"
    }
   ],
   "source": [
    "pd.DataFrame(prediction_df.take(5), columns=prediction_df.columns).transpose()"
   ]
  },
  {
   "cell_type": "code",
   "execution_count": 16,
   "metadata": {},
   "outputs": [
    {
     "name": "stdout",
     "output_type": "stream",
     "text": [
      "Done! Time elapsed - 8.03 seconds.\n"
     ]
    }
   ],
   "source": [
    "# Decision Tree\n",
    "\n",
    "start_time = time.time()\n",
    "\n",
    "dt = DecisionTreeClassifier(featuresCol='features', labelCol='label', maxDepth=20)\n",
    "dt_model = dt.fit(train_df)\n",
    "\n",
    "end_time = time.time()\n",
    "elapsed_time = end_time - start_time\n",
    "print(f'Done! Time elapsed - {elapsed_time:.2f} seconds.')"
   ]
  },
  {
   "cell_type": "code",
   "execution_count": 17,
   "metadata": {},
   "outputs": [
    {
     "name": "stdout",
     "output_type": "stream",
     "text": [
      "Test Error = 15.12%\n"
     ]
    }
   ],
   "source": [
    "predictions_dt = dt_model.transform(test_df)\n",
    "evaluator = MulticlassClassificationEvaluator(labelCol='label', predictionCol='prediction', metricName='accuracy')    # initialize an Evaluator for Multiclass Classification\n",
    "accuracy = evaluator.evaluate(predictions_dt)    # evaluate decision tree model on predictions\n",
    "print(f'Test Error = {1.0 - accuracy:.2%}')"
   ]
  },
  {
   "cell_type": "code",
   "execution_count": 18,
   "metadata": {},
   "outputs": [
    {
     "name": "stdout",
     "output_type": "stream",
     "text": [
      "+------+-------+-----+--------------------+--------------+----------+\n",
      "|userID|trackID|label|         probability| rawPrediction|prediction|\n",
      "+------+-------+-----+--------------------+--------------+----------+\n",
      "|200031| 227283|  0.0|[0.19010416666666...|  [73.0,311.0]|       1.0|\n",
      "|200031|  30877|  1.0|[0.02325581395348...|   [3.0,126.0]|       1.0|\n",
      "|200031|  34503|  1.0|[0.02325581395348...|   [3.0,126.0]|       1.0|\n",
      "|200032| 218377|  0.0|[0.84828807556080...|[1437.0,257.0]|       0.0|\n",
      "|200032| 110262|  0.0|[0.84828807556080...|[1437.0,257.0]|       0.0|\n",
      "|200055| 175557|  0.0|[0.84828807556080...|[1437.0,257.0]|       0.0|\n",
      "+------+-------+-----+--------------------+--------------+----------+\n",
      "only showing top 6 rows\n",
      "\n"
     ]
    }
   ],
   "source": [
    "sort_predictions_dt = predictions_dt.select('userID', 'trackID', 'label', 'probability', 'rawPrediction', 'prediction').sort(col('userID').asc(), col('probability').desc())\n",
    "sort_predictions_dt.show(6)"
   ]
  },
  {
   "cell_type": "code",
   "execution_count": 19,
   "metadata": {},
   "outputs": [
    {
     "name": "stdout",
     "output_type": "stream",
     "text": [
      "+------+-------+--------------------+--------------+----------+\n",
      "|userID|trackID|         probability| rawPrediction|prediction|\n",
      "+------+-------+--------------------+--------------+----------+\n",
      "|199810| 208019|[0.84828807556080...|[1437.0,257.0]|       0.0|\n",
      "|199810|  74139|[0.72456575682382...| [292.0,111.0]|       0.0|\n",
      "|199810|   9903|[0.84828807556080...|[1437.0,257.0]|       0.0|\n",
      "|199810| 242681|[0.84828807556080...|[1437.0,257.0]|       0.0|\n",
      "|199810|  18515|   [0.28125,0.71875]|    [9.0,23.0]|       1.0|\n",
      "|199810| 105760|[0.19010416666666...|  [73.0,311.0]|       1.0|\n",
      "|199812| 276940|[0.84828807556080...|[1437.0,257.0]|       0.0|\n",
      "|199812| 142408|[0.00278940027894...|   [2.0,715.0]|       1.0|\n",
      "|199812| 130023|[0.00278940027894...|   [2.0,715.0]|       1.0|\n",
      "|199812|  29189|[0.72456575682382...| [292.0,111.0]|       0.0|\n",
      "|199812| 223706|[0.13888888888888...|    [5.0,31.0]|       1.0|\n",
      "|199812| 211361|[0.84828807556080...|[1437.0,257.0]|       0.0|\n",
      "+------+-------+--------------------+--------------+----------+\n",
      "only showing top 12 rows\n",
      "\n"
     ]
    }
   ],
   "source": [
    "dt_predictions = dt_model.transform(prediction_df)    # transform prediction_df with decision tree model\n",
    "dt_predictions.select('userID', 'trackID', 'probability', 'rawPrediction', 'prediction').show(12)"
   ]
  },
  {
   "cell_type": "code",
   "execution_count": 20,
   "metadata": {},
   "outputs": [
    {
     "name": "stdout",
     "output_type": "stream",
     "text": [
      "+------+-------+--------------------+--------------+----------+\n",
      "|userID|trackID|         probability| rawPrediction|prediction|\n",
      "+------+-------+--------------------+--------------+----------+\n",
      "|199810|   9903|[0.84828807556080...|[1437.0,257.0]|       0.0|\n",
      "|199810| 208019|[0.84828807556080...|[1437.0,257.0]|       0.0|\n",
      "|199810| 242681|[0.84828807556080...|[1437.0,257.0]|       0.0|\n",
      "|199810|  74139|[0.72456575682382...| [292.0,111.0]|       0.0|\n",
      "|199810|  18515|   [0.28125,0.71875]|    [9.0,23.0]|       1.0|\n",
      "|199810| 105760|[0.19010416666666...|  [73.0,311.0]|       1.0|\n",
      "+------+-------+--------------------+--------------+----------+\n",
      "only showing top 6 rows\n",
      "\n"
     ]
    }
   ],
   "source": [
    "# col('userID').asc() sort the user ascending\n",
    "# col('probability').desc() sort the probability descending (from large to small)\n",
    "sort_dt_predictions = dt_predictions.select('userID', 'trackID', 'probability', 'rawPrediction', 'prediction').sort(col('userID').asc(), col('probability').desc())\n",
    "sort_dt_predictions.show(6)"
   ]
  },
  {
   "cell_type": "code",
   "execution_count": 22,
   "metadata": {},
   "outputs": [
    {
     "data": {
      "text/html": [
       "<div>\n",
       "<style scoped>\n",
       "    .dataframe tbody tr th:only-of-type {\n",
       "        vertical-align: middle;\n",
       "    }\n",
       "\n",
       "    .dataframe tbody tr th {\n",
       "        vertical-align: top;\n",
       "    }\n",
       "\n",
       "    .dataframe thead th {\n",
       "        text-align: right;\n",
       "    }\n",
       "</style>\n",
       "<table border=\"1\" class=\"dataframe\">\n",
       "  <thead>\n",
       "    <tr style=\"text-align: right;\">\n",
       "      <th></th>\n",
       "      <th>userID</th>\n",
       "      <th>trackID</th>\n",
       "      <th>probability</th>\n",
       "      <th>rawPrediction</th>\n",
       "      <th>prediction</th>\n",
       "    </tr>\n",
       "  </thead>\n",
       "  <tbody>\n",
       "    <tr>\n",
       "      <th>0</th>\n",
       "      <td>199810</td>\n",
       "      <td>208019</td>\n",
       "      <td>[0.8482880755608029, 0.15171192443919718]</td>\n",
       "      <td>[1437.0, 257.0]</td>\n",
       "      <td>0.0</td>\n",
       "    </tr>\n",
       "    <tr>\n",
       "      <th>1</th>\n",
       "      <td>199810</td>\n",
       "      <td>9903</td>\n",
       "      <td>[0.8482880755608029, 0.15171192443919718]</td>\n",
       "      <td>[1437.0, 257.0]</td>\n",
       "      <td>0.0</td>\n",
       "    </tr>\n",
       "    <tr>\n",
       "      <th>2</th>\n",
       "      <td>199810</td>\n",
       "      <td>242681</td>\n",
       "      <td>[0.8482880755608029, 0.15171192443919718]</td>\n",
       "      <td>[1437.0, 257.0]</td>\n",
       "      <td>0.0</td>\n",
       "    </tr>\n",
       "    <tr>\n",
       "      <th>3</th>\n",
       "      <td>199810</td>\n",
       "      <td>74139</td>\n",
       "      <td>[0.7245657568238213, 0.27543424317617865]</td>\n",
       "      <td>[292.0, 111.0]</td>\n",
       "      <td>0.0</td>\n",
       "    </tr>\n",
       "    <tr>\n",
       "      <th>4</th>\n",
       "      <td>199810</td>\n",
       "      <td>18515</td>\n",
       "      <td>[0.28125, 0.71875]</td>\n",
       "      <td>[9.0, 23.0]</td>\n",
       "      <td>1.0</td>\n",
       "    </tr>\n",
       "    <tr>\n",
       "      <th>...</th>\n",
       "      <td>...</td>\n",
       "      <td>...</td>\n",
       "      <td>...</td>\n",
       "      <td>...</td>\n",
       "      <td>...</td>\n",
       "    </tr>\n",
       "    <tr>\n",
       "      <th>119995</th>\n",
       "      <td>249010</td>\n",
       "      <td>86104</td>\n",
       "      <td>[0.8482880755608029, 0.15171192443919718]</td>\n",
       "      <td>[1437.0, 257.0]</td>\n",
       "      <td>0.0</td>\n",
       "    </tr>\n",
       "    <tr>\n",
       "      <th>119996</th>\n",
       "      <td>249010</td>\n",
       "      <td>293818</td>\n",
       "      <td>[0.8482880755608029, 0.15171192443919718]</td>\n",
       "      <td>[1437.0, 257.0]</td>\n",
       "      <td>0.0</td>\n",
       "    </tr>\n",
       "    <tr>\n",
       "      <th>119997</th>\n",
       "      <td>249010</td>\n",
       "      <td>110470</td>\n",
       "      <td>[0.002789400278940028, 0.99721059972106]</td>\n",
       "      <td>[2.0, 715.0]</td>\n",
       "      <td>1.0</td>\n",
       "    </tr>\n",
       "    <tr>\n",
       "      <th>119998</th>\n",
       "      <td>249010</td>\n",
       "      <td>186634</td>\n",
       "      <td>[0.002789400278940028, 0.99721059972106]</td>\n",
       "      <td>[2.0, 715.0]</td>\n",
       "      <td>1.0</td>\n",
       "    </tr>\n",
       "    <tr>\n",
       "      <th>119999</th>\n",
       "      <td>249010</td>\n",
       "      <td>262811</td>\n",
       "      <td>[0.002789400278940028, 0.99721059972106]</td>\n",
       "      <td>[2.0, 715.0]</td>\n",
       "      <td>1.0</td>\n",
       "    </tr>\n",
       "  </tbody>\n",
       "</table>\n",
       "<p>120000 rows × 5 columns</p>\n",
       "</div>"
      ],
      "text/plain": [
       "        userID  trackID                                probability  \\\n",
       "0       199810   208019  [0.8482880755608029, 0.15171192443919718]   \n",
       "1       199810     9903  [0.8482880755608029, 0.15171192443919718]   \n",
       "2       199810   242681  [0.8482880755608029, 0.15171192443919718]   \n",
       "3       199810    74139  [0.7245657568238213, 0.27543424317617865]   \n",
       "4       199810    18515                         [0.28125, 0.71875]   \n",
       "...        ...      ...                                        ...   \n",
       "119995  249010    86104  [0.8482880755608029, 0.15171192443919718]   \n",
       "119996  249010   293818  [0.8482880755608029, 0.15171192443919718]   \n",
       "119997  249010   110470   [0.002789400278940028, 0.99721059972106]   \n",
       "119998  249010   186634   [0.002789400278940028, 0.99721059972106]   \n",
       "119999  249010   262811   [0.002789400278940028, 0.99721059972106]   \n",
       "\n",
       "          rawPrediction  prediction  \n",
       "0       [1437.0, 257.0]         0.0  \n",
       "1       [1437.0, 257.0]         0.0  \n",
       "2       [1437.0, 257.0]         0.0  \n",
       "3        [292.0, 111.0]         0.0  \n",
       "4           [9.0, 23.0]         1.0  \n",
       "...                 ...         ...  \n",
       "119995  [1437.0, 257.0]         0.0  \n",
       "119996  [1437.0, 257.0]         0.0  \n",
       "119997     [2.0, 715.0]         1.0  \n",
       "119998     [2.0, 715.0]         1.0  \n",
       "119999     [2.0, 715.0]         1.0  \n",
       "\n",
       "[120000 rows x 5 columns]"
      ]
     },
     "execution_count": 22,
     "metadata": {},
     "output_type": "execute_result"
    }
   ],
   "source": [
    "pd_sort_dt_predictions = sort_dt_predictions.toPandas().fillna(0.0)    # create pandas df\n",
    "pd_sort_dt_predictions"
   ]
  },
  {
   "cell_type": "code",
   "execution_count": 23,
   "metadata": {},
   "outputs": [],
   "source": [
    "columns_to_write = ['userID', 'trackID']\n",
    "pd_sort_dt_predictions.to_csv('decision_tree_predictions.csv', index=False, header=None, columns=columns_to_write)    # write to csv (without header)"
   ]
  },
  {
   "cell_type": "code",
   "execution_count": 24,
   "metadata": {},
   "outputs": [],
   "source": [
    "f_dt_predictions = open('decision_tree_predictions.csv')   \n",
    "f_dt_final_predictions = open('decision_tree_final_predictions.csv', 'w')"
   ]
  },
  {
   "cell_type": "code",
   "execution_count": 25,
   "metadata": {},
   "outputs": [
    {
     "data": {
      "text/plain": [
       "18"
      ]
     },
     "execution_count": 25,
     "metadata": {},
     "output_type": "execute_result"
    }
   ],
   "source": [
    "# Write header\n",
    "f_dt_final_predictions.write('TrackID,Predictor\\n')"
   ]
  },
  {
   "cell_type": "code",
   "execution_count": 26,
   "metadata": {},
   "outputs": [
    {
     "name": "stdout",
     "output_type": "stream",
     "text": [
      "Done! Time elapsed - 2.09 seconds.\n"
     ]
    }
   ],
   "source": [
    "# Initialize some values\n",
    "last_user_id = -1\n",
    "track_id_out_vec = [0] * 6\n",
    "\n",
    "start_time = time.time()\n",
    "\n",
    "# Go through each line of the predictions file\n",
    "for line in f_dt_predictions:\n",
    "    arr_out = line.strip().split(',')    # remove any spaces/new lines and create list \n",
    "    user_id_out = arr_out[0]             # set user\n",
    "    track_id_out = arr_out[1]            # set track\n",
    "    \n",
    "    if user_id_out != last_user_id:             # if new user reached\n",
    "        i = 0                                   # reset i\n",
    "        \n",
    "    track_id_out_vec[i] = track_id_out          # add trackID to trackID array\n",
    "        \n",
    "    i = i + 1                    # increment i\n",
    "    last_user_id = user_id_out   # set last_user_id as current userID\n",
    "    \n",
    "    if i == 6:                               # if last entry for current user reached\n",
    "        # Here we set the predictions \n",
    "        predictions = np.ones(shape=(6)) # initialize numpy array for predictions\n",
    "        for index in range(0, 3):            \n",
    "            predictions[index] = 0           # set first 3 values in array to 0 (other 3 are 1)\n",
    "        \n",
    "        # Here we write to the final predictions file for the 6 track predictions for the current user\n",
    "        for ii in range(0, 6):         \n",
    "            out_str = str(user_id_out) + '_' + str(track_id_out_vec[ii]) + ',' + str(int(predictions[ii]))\n",
    "            f_dt_final_predictions.write(out_str + '\\n')\n",
    "\n",
    "        \n",
    "end_time = time.time()\n",
    "elapsed_time = end_time - start_time\n",
    "print(f'Done! Time elapsed - {elapsed_time:.2f} seconds.')\n",
    "\n",
    "f_dt_predictions.close()\n",
    "f_dt_final_predictions.close()"
   ]
  },
  {
   "cell_type": "code",
   "execution_count": 27,
   "metadata": {},
   "outputs": [
    {
     "name": "stdout",
     "output_type": "stream",
     "text": [
      "Done! Time elapsed - 3.27 seconds.\n",
      "Test Error = 14.51%\n"
     ]
    }
   ],
   "source": [
    "# Random Forest\n",
    "\n",
    "from pyspark.ml.classification import RandomForestClassifier\n",
    "\n",
    "start_time = time.time()\n",
    "\n",
    "rf = RandomForestClassifier(featuresCol='features', labelCol='label')\n",
    "rf_model = rf.fit(train_df)\n",
    "\n",
    "end_time = time.time()\n",
    "elapsed_time = end_time - start_time\n",
    "print(f'Done! Time elapsed - {elapsed_time:.2f} seconds.')\n",
    "\n",
    "predictions_rf = rf_model.transform(test_df)\n",
    "\n",
    "evaluator = MulticlassClassificationEvaluator(labelCol='label', predictionCol='prediction', metricName='accuracy')    # initialize an Evaluator for Multiclass Classification\n",
    "accuracy = evaluator.evaluate(predictions_rf)    # evaluate random forest model on predictions\n",
    "print(f'Test Error = {1.0 - accuracy:.2%}')"
   ]
  },
  {
   "cell_type": "code",
   "execution_count": 28,
   "metadata": {},
   "outputs": [
    {
     "name": "stdout",
     "output_type": "stream",
     "text": [
      "+------+-------+-----+--------------------+--------------------+----------+\n",
      "|userID|trackID|label|         probability|       rawPrediction|prediction|\n",
      "+------+-------+-----+--------------------+--------------------+----------+\n",
      "|200031| 227283|  0.0|[0.17659724265951...|[3.53194485319030...|       1.0|\n",
      "|200031|  30877|  1.0|[0.02303244231395...|[0.46064884627903...|       1.0|\n",
      "|200031|  34503|  1.0|[0.02303244231395...|[0.46064884627903...|       1.0|\n",
      "|200032| 218377|  0.0|[0.83477151665023...|[16.6954303330047...|       0.0|\n",
      "|200032| 110262|  0.0|[0.83477151665023...|[16.6954303330047...|       0.0|\n",
      "|200055| 175557|  0.0|[0.83477151665023...|[16.6954303330047...|       0.0|\n",
      "+------+-------+-----+--------------------+--------------------+----------+\n",
      "only showing top 6 rows\n",
      "\n"
     ]
    }
   ],
   "source": [
    "sort_predictions_rf = predictions_rf.select('userID', 'trackID', 'label', 'probability', 'rawPrediction', 'prediction').sort(col('userID').asc(), col('probability').desc())\n",
    "sort_predictions_rf.show(6)"
   ]
  },
  {
   "cell_type": "code",
   "execution_count": 29,
   "metadata": {},
   "outputs": [
    {
     "name": "stdout",
     "output_type": "stream",
     "text": [
      "+------+-------+--------------------+--------------+----------+\n",
      "|userID|trackID|         probability| rawPrediction|prediction|\n",
      "+------+-------+--------------------+--------------+----------+\n",
      "|199810| 208019|[0.84828807556080...|[1437.0,257.0]|       0.0|\n",
      "|199810|  74139|[0.72456575682382...| [292.0,111.0]|       0.0|\n",
      "|199810|   9903|[0.84828807556080...|[1437.0,257.0]|       0.0|\n",
      "|199810| 242681|[0.84828807556080...|[1437.0,257.0]|       0.0|\n",
      "|199810|  18515|   [0.28125,0.71875]|    [9.0,23.0]|       1.0|\n",
      "|199810| 105760|[0.19010416666666...|  [73.0,311.0]|       1.0|\n",
      "|199812| 276940|[0.84828807556080...|[1437.0,257.0]|       0.0|\n",
      "|199812| 142408|[0.00278940027894...|   [2.0,715.0]|       1.0|\n",
      "|199812| 130023|[0.00278940027894...|   [2.0,715.0]|       1.0|\n",
      "|199812|  29189|[0.72456575682382...| [292.0,111.0]|       0.0|\n",
      "|199812| 223706|[0.13888888888888...|    [5.0,31.0]|       1.0|\n",
      "|199812| 211361|[0.84828807556080...|[1437.0,257.0]|       0.0|\n",
      "+------+-------+--------------------+--------------+----------+\n",
      "only showing top 12 rows\n",
      "\n"
     ]
    }
   ],
   "source": [
    "rf_predictions = dt_model.transform(prediction_df)    # transform prediction_df with random forest model\n",
    "rf_predictions.select('userID', 'trackID', 'probability', 'rawPrediction', 'prediction').show(12)"
   ]
  },
  {
   "cell_type": "code",
   "execution_count": 30,
   "metadata": {},
   "outputs": [
    {
     "name": "stdout",
     "output_type": "stream",
     "text": [
      "+------+-------+--------------------+--------------+----------+\n",
      "|userID|trackID|         probability| rawPrediction|prediction|\n",
      "+------+-------+--------------------+--------------+----------+\n",
      "|199810|   9903|[0.84828807556080...|[1437.0,257.0]|       0.0|\n",
      "|199810| 208019|[0.84828807556080...|[1437.0,257.0]|       0.0|\n",
      "|199810| 242681|[0.84828807556080...|[1437.0,257.0]|       0.0|\n",
      "|199810|  74139|[0.72456575682382...| [292.0,111.0]|       0.0|\n",
      "|199810|  18515|   [0.28125,0.71875]|    [9.0,23.0]|       1.0|\n",
      "|199810| 105760|[0.19010416666666...|  [73.0,311.0]|       1.0|\n",
      "+------+-------+--------------------+--------------+----------+\n",
      "only showing top 6 rows\n",
      "\n"
     ]
    }
   ],
   "source": [
    "# col('userID').asc() sort the user ascending\n",
    "# col('probability').desc() sort the probability descending (from large to small)\n",
    "sort_rf_predictions = rf_predictions.select('userID', 'trackID', 'probability', 'rawPrediction', 'prediction').sort(col('userID').asc(), col('probability').desc())\n",
    "sort_rf_predictions.show(6)"
   ]
  },
  {
   "cell_type": "code",
   "execution_count": 31,
   "metadata": {},
   "outputs": [
    {
     "data": {
      "text/html": [
       "<div>\n",
       "<style scoped>\n",
       "    .dataframe tbody tr th:only-of-type {\n",
       "        vertical-align: middle;\n",
       "    }\n",
       "\n",
       "    .dataframe tbody tr th {\n",
       "        vertical-align: top;\n",
       "    }\n",
       "\n",
       "    .dataframe thead th {\n",
       "        text-align: right;\n",
       "    }\n",
       "</style>\n",
       "<table border=\"1\" class=\"dataframe\">\n",
       "  <thead>\n",
       "    <tr style=\"text-align: right;\">\n",
       "      <th></th>\n",
       "      <th>userID</th>\n",
       "      <th>trackID</th>\n",
       "      <th>probability</th>\n",
       "      <th>rawPrediction</th>\n",
       "      <th>prediction</th>\n",
       "    </tr>\n",
       "  </thead>\n",
       "  <tbody>\n",
       "    <tr>\n",
       "      <th>0</th>\n",
       "      <td>199810</td>\n",
       "      <td>208019</td>\n",
       "      <td>[0.8482880755608029, 0.15171192443919718]</td>\n",
       "      <td>[1437.0, 257.0]</td>\n",
       "      <td>0.0</td>\n",
       "    </tr>\n",
       "    <tr>\n",
       "      <th>1</th>\n",
       "      <td>199810</td>\n",
       "      <td>9903</td>\n",
       "      <td>[0.8482880755608029, 0.15171192443919718]</td>\n",
       "      <td>[1437.0, 257.0]</td>\n",
       "      <td>0.0</td>\n",
       "    </tr>\n",
       "    <tr>\n",
       "      <th>2</th>\n",
       "      <td>199810</td>\n",
       "      <td>242681</td>\n",
       "      <td>[0.8482880755608029, 0.15171192443919718]</td>\n",
       "      <td>[1437.0, 257.0]</td>\n",
       "      <td>0.0</td>\n",
       "    </tr>\n",
       "    <tr>\n",
       "      <th>3</th>\n",
       "      <td>199810</td>\n",
       "      <td>74139</td>\n",
       "      <td>[0.7245657568238213, 0.27543424317617865]</td>\n",
       "      <td>[292.0, 111.0]</td>\n",
       "      <td>0.0</td>\n",
       "    </tr>\n",
       "    <tr>\n",
       "      <th>4</th>\n",
       "      <td>199810</td>\n",
       "      <td>18515</td>\n",
       "      <td>[0.28125, 0.71875]</td>\n",
       "      <td>[9.0, 23.0]</td>\n",
       "      <td>1.0</td>\n",
       "    </tr>\n",
       "    <tr>\n",
       "      <th>...</th>\n",
       "      <td>...</td>\n",
       "      <td>...</td>\n",
       "      <td>...</td>\n",
       "      <td>...</td>\n",
       "      <td>...</td>\n",
       "    </tr>\n",
       "    <tr>\n",
       "      <th>119995</th>\n",
       "      <td>249010</td>\n",
       "      <td>86104</td>\n",
       "      <td>[0.8482880755608029, 0.15171192443919718]</td>\n",
       "      <td>[1437.0, 257.0]</td>\n",
       "      <td>0.0</td>\n",
       "    </tr>\n",
       "    <tr>\n",
       "      <th>119996</th>\n",
       "      <td>249010</td>\n",
       "      <td>293818</td>\n",
       "      <td>[0.8482880755608029, 0.15171192443919718]</td>\n",
       "      <td>[1437.0, 257.0]</td>\n",
       "      <td>0.0</td>\n",
       "    </tr>\n",
       "    <tr>\n",
       "      <th>119997</th>\n",
       "      <td>249010</td>\n",
       "      <td>110470</td>\n",
       "      <td>[0.002789400278940028, 0.99721059972106]</td>\n",
       "      <td>[2.0, 715.0]</td>\n",
       "      <td>1.0</td>\n",
       "    </tr>\n",
       "    <tr>\n",
       "      <th>119998</th>\n",
       "      <td>249010</td>\n",
       "      <td>186634</td>\n",
       "      <td>[0.002789400278940028, 0.99721059972106]</td>\n",
       "      <td>[2.0, 715.0]</td>\n",
       "      <td>1.0</td>\n",
       "    </tr>\n",
       "    <tr>\n",
       "      <th>119999</th>\n",
       "      <td>249010</td>\n",
       "      <td>262811</td>\n",
       "      <td>[0.002789400278940028, 0.99721059972106]</td>\n",
       "      <td>[2.0, 715.0]</td>\n",
       "      <td>1.0</td>\n",
       "    </tr>\n",
       "  </tbody>\n",
       "</table>\n",
       "<p>120000 rows × 5 columns</p>\n",
       "</div>"
      ],
      "text/plain": [
       "        userID  trackID                                probability  \\\n",
       "0       199810   208019  [0.8482880755608029, 0.15171192443919718]   \n",
       "1       199810     9903  [0.8482880755608029, 0.15171192443919718]   \n",
       "2       199810   242681  [0.8482880755608029, 0.15171192443919718]   \n",
       "3       199810    74139  [0.7245657568238213, 0.27543424317617865]   \n",
       "4       199810    18515                         [0.28125, 0.71875]   \n",
       "...        ...      ...                                        ...   \n",
       "119995  249010    86104  [0.8482880755608029, 0.15171192443919718]   \n",
       "119996  249010   293818  [0.8482880755608029, 0.15171192443919718]   \n",
       "119997  249010   110470   [0.002789400278940028, 0.99721059972106]   \n",
       "119998  249010   186634   [0.002789400278940028, 0.99721059972106]   \n",
       "119999  249010   262811   [0.002789400278940028, 0.99721059972106]   \n",
       "\n",
       "          rawPrediction  prediction  \n",
       "0       [1437.0, 257.0]         0.0  \n",
       "1       [1437.0, 257.0]         0.0  \n",
       "2       [1437.0, 257.0]         0.0  \n",
       "3        [292.0, 111.0]         0.0  \n",
       "4           [9.0, 23.0]         1.0  \n",
       "...                 ...         ...  \n",
       "119995  [1437.0, 257.0]         0.0  \n",
       "119996  [1437.0, 257.0]         0.0  \n",
       "119997     [2.0, 715.0]         1.0  \n",
       "119998     [2.0, 715.0]         1.0  \n",
       "119999     [2.0, 715.0]         1.0  \n",
       "\n",
       "[120000 rows x 5 columns]"
      ]
     },
     "execution_count": 31,
     "metadata": {},
     "output_type": "execute_result"
    }
   ],
   "source": [
    "pd_sort_rf_predictions = sort_rf_predictions.toPandas().fillna(0.0)    # create pandas df\n",
    "pd_sort_rf_predictions"
   ]
  },
  {
   "cell_type": "code",
   "execution_count": 32,
   "metadata": {},
   "outputs": [],
   "source": [
    "columns_to_write = ['userID', 'trackID']\n",
    "pd_sort_rf_predictions.to_csv('random_forest_predictions.csv', index=False, header=None, columns=columns_to_write)    # write to csv (without headers)"
   ]
  },
  {
   "cell_type": "code",
   "execution_count": 33,
   "metadata": {},
   "outputs": [],
   "source": [
    "f_rf_predictions = open('random_forest_predictions.csv')   \n",
    "f_rf_final_predictions = open('random_forest_final_predictions.csv', 'w')"
   ]
  },
  {
   "cell_type": "code",
   "execution_count": 34,
   "metadata": {},
   "outputs": [
    {
     "data": {
      "text/plain": [
       "18"
      ]
     },
     "execution_count": 34,
     "metadata": {},
     "output_type": "execute_result"
    }
   ],
   "source": [
    "# Write header\n",
    "f_rf_final_predictions.write('TrackID,Predictor\\n')"
   ]
  },
  {
   "cell_type": "code",
   "execution_count": 35,
   "metadata": {},
   "outputs": [
    {
     "name": "stdout",
     "output_type": "stream",
     "text": [
      "Done! Time elapsed - 2.12 seconds.\n"
     ]
    }
   ],
   "source": [
    "# Initialize some values\n",
    "last_user_id = -1\n",
    "track_id_out_vec = [0] * 6\n",
    "\n",
    "start_time = time.time()\n",
    "\n",
    "# Go through each line of the predictions file\n",
    "for line in f_rf_predictions:\n",
    "    arr_out = line.strip().split(',')    # remove any spaces/new lines and create list \n",
    "    user_id_out = arr_out[0]             # set user\n",
    "    track_id_out = arr_out[1]            # set track\n",
    "    \n",
    "    if user_id_out != last_user_id:             # if new user reached\n",
    "        i = 0                                   # reset i\n",
    "        \n",
    "    track_id_out_vec[i] = track_id_out          # add trackID to trackID array\n",
    "        \n",
    "    i = i + 1                    # increment i\n",
    "    last_user_id = user_id_out   # set last_user_id as current userID\n",
    "    \n",
    "    if i == 6:                               # if last entry for current user reached\n",
    "        # Here we set the predictions \n",
    "        predictions = np.ones(shape=(6)) # initialize numpy array for predictions\n",
    "        for index in range(0, 3):            \n",
    "            predictions[index] = 0           # set first 3 values in array to 0 (other 3 are 1)\n",
    "        \n",
    "        # Here we write to the final predictions file for the 6 track predictions for the current user\n",
    "        for ii in range(0, 6):         \n",
    "            out_str = str(user_id_out) + '_' + str(track_id_out_vec[ii]) + ',' + str(int(predictions[ii]))\n",
    "            f_rf_final_predictions.write(out_str + '\\n')\n",
    "\n",
    "        \n",
    "end_time = time.time()\n",
    "elapsed_time = end_time - start_time\n",
    "print(f'Done! Time elapsed - {elapsed_time:.2f} seconds.')\n",
    "\n",
    "f_rf_predictions.close()\n",
    "f_rf_final_predictions.close()"
   ]
  },
  {
   "cell_type": "code",
   "execution_count": 36,
   "metadata": {},
   "outputs": [
    {
     "name": "stdout",
     "output_type": "stream",
     "text": [
      "Done! Time elapsed - 66.81 seconds.\n",
      "Test Error = 15.01%\n"
     ]
    }
   ],
   "source": [
    "# Gradient Boosted Tree\n",
    "\n",
    "from pyspark.ml.classification import GBTClassifier\n",
    "\n",
    "start_time = time.time()\n",
    "\n",
    "gbt = GBTClassifier(maxIter=100)\n",
    "gbt_model = gbt.fit(train_df)\n",
    "\n",
    "end_time = time.time()\n",
    "elapsed_time = end_time - start_time\n",
    "print(f'Done! Time elapsed - {elapsed_time:.2f} seconds.')\n",
    "\n",
    "predictions_gbt = gbt_model.transform(test_df)\n",
    "\n",
    "evaluator = MulticlassClassificationEvaluator(labelCol='label', predictionCol='prediction', metricName='accuracy')    # initialize an Evaluator for Multiclass Classification\n",
    "accuracy = evaluator.evaluate(predictions_gbt)    # evaluate random forest model on predictions\n",
    "print(f'Test Error = {1.0 - accuracy:.2%}')"
   ]
  },
  {
   "cell_type": "code",
   "execution_count": 37,
   "metadata": {},
   "outputs": [
    {
     "name": "stdout",
     "output_type": "stream",
     "text": [
      "+------+-------+-----+--------------------+--------------------+----------+\n",
      "|userID|trackID|label|         probability|       rawPrediction|prediction|\n",
      "+------+-------+-----+--------------------+--------------------+----------+\n",
      "|200031| 227283|  0.0|[0.21518543762805...|[-0.6469736533077...|       1.0|\n",
      "|200031|  30877|  1.0|[0.01421111170587...|[-2.1197090246712...|       1.0|\n",
      "|200031|  34503|  1.0|[0.01421111170587...|[-2.1197090246712...|       1.0|\n",
      "|200032| 218377|  0.0|[0.84760313000509...|[0.85796220711124...|       0.0|\n",
      "|200032| 110262|  0.0|[0.84760313000509...|[0.85796220711124...|       0.0|\n",
      "|200055| 175557|  0.0|[0.84760313000509...|[0.85796220711124...|       0.0|\n",
      "+------+-------+-----+--------------------+--------------------+----------+\n",
      "only showing top 6 rows\n",
      "\n",
      "+------+-------+--------------------+--------------------+----------+\n",
      "|userID|trackID|         probability|       rawPrediction|prediction|\n",
      "+------+-------+--------------------+--------------------+----------+\n",
      "|199810| 208019|[0.84760313000509...|[0.85796220711124...|       0.0|\n",
      "|199810|  74139|[0.72350749410959...|[0.48096359351340...|       0.0|\n",
      "|199810|   9903|[0.84760313000509...|[0.85796220711124...|       0.0|\n",
      "|199810| 242681|[0.84760313000509...|[0.85796220711124...|       0.0|\n",
      "|199810|  18515|[0.27996744400564...|[-0.4723115513229...|       1.0|\n",
      "|199810| 105760|[0.20031666336396...|[-0.6921581944293...|       1.0|\n",
      "|199812| 276940|[0.84760313000509...|[0.85796220711124...|       0.0|\n",
      "|199812| 142408|[0.01168263336325...|[-2.2189502281445...|       1.0|\n",
      "|199812| 130023|[0.01168263336325...|[-2.2189502281445...|       1.0|\n",
      "|199812|  29189|[0.72350749410959...|[0.48096359351340...|       0.0|\n",
      "|199812| 223706|[0.15159915762224...|[-0.8610566494901...|       1.0|\n",
      "|199812| 211361|[0.84760313000509...|[0.85796220711124...|       0.0|\n",
      "+------+-------+--------------------+--------------------+----------+\n",
      "only showing top 12 rows\n",
      "\n"
     ]
    }
   ],
   "source": [
    "sort_predictions_gbt = predictions_gbt.select('userID', 'trackID', 'label', 'probability', 'rawPrediction', 'prediction').sort(col('userID').asc(), col('probability').desc())\n",
    "sort_predictions_gbt.show(6)\n",
    "\n",
    "gbt_predictions = gbt_model.transform(prediction_df)    # transform prediction_df with gradient-boosted tree model\n",
    "gbt_predictions.select('userID', 'trackID', 'probability', 'rawPrediction', 'prediction').show(12)"
   ]
  },
  {
   "cell_type": "code",
   "execution_count": 38,
   "metadata": {},
   "outputs": [
    {
     "name": "stdout",
     "output_type": "stream",
     "text": [
      "+------+-------+--------------------+--------------------+----------+\n",
      "|userID|trackID|         probability|       rawPrediction|prediction|\n",
      "+------+-------+--------------------+--------------------+----------+\n",
      "|199810|   9903|[0.84760313000509...|[0.85796220711124...|       0.0|\n",
      "|199810| 208019|[0.84760313000509...|[0.85796220711124...|       0.0|\n",
      "|199810| 242681|[0.84760313000509...|[0.85796220711124...|       0.0|\n",
      "|199810|  74139|[0.72350749410959...|[0.48096359351340...|       0.0|\n",
      "|199810|  18515|[0.27996744400564...|[-0.4723115513229...|       1.0|\n",
      "|199810| 105760|[0.20031666336396...|[-0.6921581944293...|       1.0|\n",
      "+------+-------+--------------------+--------------------+----------+\n",
      "only showing top 6 rows\n",
      "\n"
     ]
    }
   ],
   "source": [
    "# col('userID').asc() sort the user ascending\n",
    "# col('probability').desc() sort the probability descending (from large to small)\n",
    "sort_gbt_predictions = gbt_predictions.select('userID', 'trackID', 'probability', 'rawPrediction', 'prediction').sort(col('userID').asc(), col('probability').desc())\n",
    "sort_gbt_predictions.show(6)"
   ]
  },
  {
   "cell_type": "code",
   "execution_count": 39,
   "metadata": {},
   "outputs": [],
   "source": [
    "pd_sort_gbt_predictions = sort_gbt_predictions.toPandas().fillna(0.0)    # create pandas df"
   ]
  },
  {
   "cell_type": "code",
   "execution_count": 40,
   "metadata": {},
   "outputs": [
    {
     "data": {
      "text/html": [
       "<div>\n",
       "<style scoped>\n",
       "    .dataframe tbody tr th:only-of-type {\n",
       "        vertical-align: middle;\n",
       "    }\n",
       "\n",
       "    .dataframe tbody tr th {\n",
       "        vertical-align: top;\n",
       "    }\n",
       "\n",
       "    .dataframe thead th {\n",
       "        text-align: right;\n",
       "    }\n",
       "</style>\n",
       "<table border=\"1\" class=\"dataframe\">\n",
       "  <thead>\n",
       "    <tr style=\"text-align: right;\">\n",
       "      <th></th>\n",
       "      <th>userID</th>\n",
       "      <th>trackID</th>\n",
       "      <th>probability</th>\n",
       "      <th>rawPrediction</th>\n",
       "      <th>prediction</th>\n",
       "    </tr>\n",
       "  </thead>\n",
       "  <tbody>\n",
       "    <tr>\n",
       "      <th>0</th>\n",
       "      <td>199810</td>\n",
       "      <td>208019</td>\n",
       "      <td>[0.8476031300050952, 0.15239686999490476]</td>\n",
       "      <td>[0.857962207111245, -0.857962207111245]</td>\n",
       "      <td>0.0</td>\n",
       "    </tr>\n",
       "    <tr>\n",
       "      <th>1</th>\n",
       "      <td>199810</td>\n",
       "      <td>9903</td>\n",
       "      <td>[0.8476031300050952, 0.15239686999490476]</td>\n",
       "      <td>[0.857962207111245, -0.857962207111245]</td>\n",
       "      <td>0.0</td>\n",
       "    </tr>\n",
       "    <tr>\n",
       "      <th>2</th>\n",
       "      <td>199810</td>\n",
       "      <td>242681</td>\n",
       "      <td>[0.8476031300050952, 0.15239686999490476]</td>\n",
       "      <td>[0.857962207111245, -0.857962207111245]</td>\n",
       "      <td>0.0</td>\n",
       "    </tr>\n",
       "    <tr>\n",
       "      <th>3</th>\n",
       "      <td>199810</td>\n",
       "      <td>74139</td>\n",
       "      <td>[0.7235074941095933, 0.27649250589040675]</td>\n",
       "      <td>[0.48096359351340895, -0.48096359351340895]</td>\n",
       "      <td>0.0</td>\n",
       "    </tr>\n",
       "    <tr>\n",
       "      <th>4</th>\n",
       "      <td>199810</td>\n",
       "      <td>18515</td>\n",
       "      <td>[0.27996744400564877, 0.7200325559943512]</td>\n",
       "      <td>[-0.4723115513229358, 0.4723115513229358]</td>\n",
       "      <td>1.0</td>\n",
       "    </tr>\n",
       "    <tr>\n",
       "      <th>...</th>\n",
       "      <td>...</td>\n",
       "      <td>...</td>\n",
       "      <td>...</td>\n",
       "      <td>...</td>\n",
       "      <td>...</td>\n",
       "    </tr>\n",
       "    <tr>\n",
       "      <th>119995</th>\n",
       "      <td>249010</td>\n",
       "      <td>86104</td>\n",
       "      <td>[0.8476031300050952, 0.15239686999490476]</td>\n",
       "      <td>[0.857962207111245, -0.857962207111245]</td>\n",
       "      <td>0.0</td>\n",
       "    </tr>\n",
       "    <tr>\n",
       "      <th>119996</th>\n",
       "      <td>249010</td>\n",
       "      <td>293818</td>\n",
       "      <td>[0.8476031300050952, 0.15239686999490476]</td>\n",
       "      <td>[0.857962207111245, -0.857962207111245]</td>\n",
       "      <td>0.0</td>\n",
       "    </tr>\n",
       "    <tr>\n",
       "      <th>119997</th>\n",
       "      <td>249010</td>\n",
       "      <td>110470</td>\n",
       "      <td>[0.014470529025492772, 0.9855294709745073]</td>\n",
       "      <td>[-2.1105324653015916, 2.1105324653015916]</td>\n",
       "      <td>1.0</td>\n",
       "    </tr>\n",
       "    <tr>\n",
       "      <th>119998</th>\n",
       "      <td>249010</td>\n",
       "      <td>186634</td>\n",
       "      <td>[0.014470529025492772, 0.9855294709745073]</td>\n",
       "      <td>[-2.1105324653015916, 2.1105324653015916]</td>\n",
       "      <td>1.0</td>\n",
       "    </tr>\n",
       "    <tr>\n",
       "      <th>119999</th>\n",
       "      <td>249010</td>\n",
       "      <td>262811</td>\n",
       "      <td>[0.014470529025492772, 0.9855294709745073]</td>\n",
       "      <td>[-2.1105324653015916, 2.1105324653015916]</td>\n",
       "      <td>1.0</td>\n",
       "    </tr>\n",
       "  </tbody>\n",
       "</table>\n",
       "<p>120000 rows × 5 columns</p>\n",
       "</div>"
      ],
      "text/plain": [
       "        userID  trackID                                 probability  \\\n",
       "0       199810   208019   [0.8476031300050952, 0.15239686999490476]   \n",
       "1       199810     9903   [0.8476031300050952, 0.15239686999490476]   \n",
       "2       199810   242681   [0.8476031300050952, 0.15239686999490476]   \n",
       "3       199810    74139   [0.7235074941095933, 0.27649250589040675]   \n",
       "4       199810    18515   [0.27996744400564877, 0.7200325559943512]   \n",
       "...        ...      ...                                         ...   \n",
       "119995  249010    86104   [0.8476031300050952, 0.15239686999490476]   \n",
       "119996  249010   293818   [0.8476031300050952, 0.15239686999490476]   \n",
       "119997  249010   110470  [0.014470529025492772, 0.9855294709745073]   \n",
       "119998  249010   186634  [0.014470529025492772, 0.9855294709745073]   \n",
       "119999  249010   262811  [0.014470529025492772, 0.9855294709745073]   \n",
       "\n",
       "                                      rawPrediction  prediction  \n",
       "0           [0.857962207111245, -0.857962207111245]         0.0  \n",
       "1           [0.857962207111245, -0.857962207111245]         0.0  \n",
       "2           [0.857962207111245, -0.857962207111245]         0.0  \n",
       "3       [0.48096359351340895, -0.48096359351340895]         0.0  \n",
       "4         [-0.4723115513229358, 0.4723115513229358]         1.0  \n",
       "...                                             ...         ...  \n",
       "119995      [0.857962207111245, -0.857962207111245]         0.0  \n",
       "119996      [0.857962207111245, -0.857962207111245]         0.0  \n",
       "119997    [-2.1105324653015916, 2.1105324653015916]         1.0  \n",
       "119998    [-2.1105324653015916, 2.1105324653015916]         1.0  \n",
       "119999    [-2.1105324653015916, 2.1105324653015916]         1.0  \n",
       "\n",
       "[120000 rows x 5 columns]"
      ]
     },
     "execution_count": 40,
     "metadata": {},
     "output_type": "execute_result"
    }
   ],
   "source": [
    "pd_sort_gbt_predictions"
   ]
  },
  {
   "cell_type": "code",
   "execution_count": 41,
   "metadata": {},
   "outputs": [],
   "source": [
    "columns_to_write = ['userID', 'trackID']\n",
    "pd_sort_gbt_predictions.to_csv('grad_boost_predictions.csv', index=False, header=None, columns=columns_to_write)    # write to csv (without headers)"
   ]
  },
  {
   "cell_type": "code",
   "execution_count": 42,
   "metadata": {},
   "outputs": [],
   "source": [
    "f_gbt_predictions = open('grad_boost_predictions.csv')   \n",
    "f_gbt_final_predictions = open('grad_boost_final_predictions.csv', 'w')"
   ]
  },
  {
   "cell_type": "code",
   "execution_count": 43,
   "metadata": {},
   "outputs": [
    {
     "data": {
      "text/plain": [
       "18"
      ]
     },
     "execution_count": 43,
     "metadata": {},
     "output_type": "execute_result"
    }
   ],
   "source": [
    "# Write header\n",
    "f_gbt_final_predictions.write('TrackID,Predictor\\n')"
   ]
  },
  {
   "cell_type": "code",
   "execution_count": 44,
   "metadata": {},
   "outputs": [
    {
     "name": "stdout",
     "output_type": "stream",
     "text": [
      "Done! Time elapsed - 2.77 seconds.\n"
     ]
    }
   ],
   "source": [
    "# Initialize some values\n",
    "last_user_id = -1\n",
    "track_id_out_vec = [0] * 6\n",
    "\n",
    "start_time = time.time()\n",
    "\n",
    "# Go through each line of the predictions file\n",
    "for line in f_gbt_predictions:\n",
    "    arr_out = line.strip().split(',')    # remove any spaces/new lines and create list \n",
    "    user_id_out = arr_out[0]             # set user\n",
    "    track_id_out = arr_out[1]            # set track\n",
    "    \n",
    "    if user_id_out != last_user_id:             # if new user reached\n",
    "        i = 0                                   # reset i\n",
    "        \n",
    "    track_id_out_vec[i] = track_id_out          # add trackID to trackID array\n",
    "        \n",
    "    i = i + 1                    # increment i\n",
    "    last_user_id = user_id_out   # set last_user_id as current userID\n",
    "    \n",
    "    if i == 6:                               # if last entry for current user reached\n",
    "        # Here we set the predictions \n",
    "        predictions = np.ones(shape=(6)) # initialize numpy array for predictions\n",
    "        for index in range(0, 3):            \n",
    "            predictions[index] = 0           # set first 3 values in array to 0 (other 3 are 1)\n",
    "        \n",
    "        # Here we write to the final predictions file for the 6 track predictions for the current user\n",
    "        for ii in range(0, 6):         \n",
    "            out_str = str(user_id_out) + '_' + str(track_id_out_vec[ii]) + ',' + str(int(predictions[ii]))\n",
    "            f_gbt_final_predictions.write(out_str + '\\n')\n",
    "\n",
    "        \n",
    "end_time = time.time()\n",
    "elapsed_time = end_time - start_time\n",
    "print(f'Done! Time elapsed - {elapsed_time:.2f} seconds.')\n",
    "\n",
    "f_gbt_predictions.close()\n",
    "f_gbt_final_predictions.close()"
   ]
  },
  {
   "cell_type": "code",
   "execution_count": null,
   "metadata": {},
   "outputs": [],
   "source": []
  }
 ],
 "metadata": {
  "kernelspec": {
   "display_name": "Python 3",
   "language": "python",
   "name": "python3"
  },
  "language_info": {
   "codemirror_mode": {
    "name": "ipython",
    "version": 3
   },
   "file_extension": ".py",
   "mimetype": "text/x-python",
   "name": "python",
   "nbconvert_exporter": "python",
   "pygments_lexer": "ipython3",
   "version": "3.6.12"
  }
 },
 "nbformat": 4,
 "nbformat_minor": 4
}
