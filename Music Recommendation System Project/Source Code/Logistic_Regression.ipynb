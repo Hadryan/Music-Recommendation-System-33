{
 "cells": [
  {
   "cell_type": "code",
   "execution_count": 1,
   "metadata": {},
   "outputs": [],
   "source": [
    "from pyspark.sql import SparkSession    # main entry point for DataFrame and SQL functionality\n",
    "from pyspark.sql.functions import col    # for returning a column based on a given column name\n",
    "from pyspark.sql.functions import lit    # for adding a new column to PySpark DataFrame\n",
    "from pyspark.ml.classification import LogisticRegression    # for classification model\n",
    "from pyspark.ml.feature import OneHotEncoder, StringIndexer, VectorAssembler    # for preparing data for classification\n",
    "from pyspark.ml.evaluation import MulticlassClassificationEvaluator    # for evaluating classification models\n",
    "from pyspark.ml import Pipeline\n",
    "import pandas as pd   # for data frames\n",
    "import numpy as np    # for arrays\n",
    "import time           # for timing cells  \n",
    "import matplotlib.pyplot as plt # plotting graphs"
   ]
  },
  {
   "cell_type": "code",
   "execution_count": 2,
   "metadata": {},
   "outputs": [
    {
     "data": {
      "text/html": [
       "\n",
       "            <div>\n",
       "                <p><b>SparkSession - hive</b></p>\n",
       "                \n",
       "        <div>\n",
       "            <p><b>SparkContext</b></p>\n",
       "\n",
       "            <p><a href=\"http://prashant.myfiosgateway.com:4042\">Spark UI</a></p>\n",
       "\n",
       "            <dl>\n",
       "              <dt>Version</dt>\n",
       "                <dd><code>v3.0.3</code></dd>\n",
       "              <dt>Master</dt>\n",
       "                <dd><code>local[*]</code></dd>\n",
       "              <dt>AppName</dt>\n",
       "                <dd><code>PySparkShell</code></dd>\n",
       "            </dl>\n",
       "        </div>\n",
       "        \n",
       "            </div>\n",
       "        "
      ],
      "text/plain": [
       "<pyspark.sql.session.SparkSession at 0x2a57ce367b8>"
      ]
     },
     "execution_count": 2,
     "metadata": {},
     "output_type": "execute_result"
    }
   ],
   "source": [
    "spark = SparkSession.builder.appName('Logistic_Regression').getOrCreate()\n",
    "spark"
   ]
  },
  {
   "cell_type": "code",
   "execution_count": 3,
   "metadata": {},
   "outputs": [
    {
     "data": {
      "text/html": [
       "<div>\n",
       "<style scoped>\n",
       "    .dataframe tbody tr th:only-of-type {\n",
       "        vertical-align: middle;\n",
       "    }\n",
       "\n",
       "    .dataframe tbody tr th {\n",
       "        vertical-align: top;\n",
       "    }\n",
       "\n",
       "    .dataframe thead th {\n",
       "        text-align: right;\n",
       "    }\n",
       "</style>\n",
       "<table border=\"1\" class=\"dataframe\">\n",
       "  <thead>\n",
       "    <tr style=\"text-align: right;\">\n",
       "      <th></th>\n",
       "      <th>userID</th>\n",
       "      <th>trackID</th>\n",
       "      <th>ground_truth</th>\n",
       "    </tr>\n",
       "  </thead>\n",
       "  <tbody>\n",
       "    <tr>\n",
       "      <th>0</th>\n",
       "      <td>200031</td>\n",
       "      <td>30877</td>\n",
       "      <td>1</td>\n",
       "    </tr>\n",
       "    <tr>\n",
       "      <th>1</th>\n",
       "      <td>200031</td>\n",
       "      <td>8244</td>\n",
       "      <td>1</td>\n",
       "    </tr>\n",
       "    <tr>\n",
       "      <th>2</th>\n",
       "      <td>200031</td>\n",
       "      <td>130183</td>\n",
       "      <td>0</td>\n",
       "    </tr>\n",
       "    <tr>\n",
       "      <th>3</th>\n",
       "      <td>200031</td>\n",
       "      <td>198762</td>\n",
       "      <td>0</td>\n",
       "    </tr>\n",
       "    <tr>\n",
       "      <th>4</th>\n",
       "      <td>200031</td>\n",
       "      <td>34503</td>\n",
       "      <td>1</td>\n",
       "    </tr>\n",
       "    <tr>\n",
       "      <th>...</th>\n",
       "      <td>...</td>\n",
       "      <td>...</td>\n",
       "      <td>...</td>\n",
       "    </tr>\n",
       "    <tr>\n",
       "      <th>5995</th>\n",
       "      <td>212234</td>\n",
       "      <td>137371</td>\n",
       "      <td>0</td>\n",
       "    </tr>\n",
       "    <tr>\n",
       "      <th>5996</th>\n",
       "      <td>212234</td>\n",
       "      <td>42375</td>\n",
       "      <td>0</td>\n",
       "    </tr>\n",
       "    <tr>\n",
       "      <th>5997</th>\n",
       "      <td>212234</td>\n",
       "      <td>277867</td>\n",
       "      <td>1</td>\n",
       "    </tr>\n",
       "    <tr>\n",
       "      <th>5998</th>\n",
       "      <td>212234</td>\n",
       "      <td>83093</td>\n",
       "      <td>1</td>\n",
       "    </tr>\n",
       "    <tr>\n",
       "      <th>5999</th>\n",
       "      <td>212234</td>\n",
       "      <td>239143</td>\n",
       "      <td>1</td>\n",
       "    </tr>\n",
       "  </tbody>\n",
       "</table>\n",
       "<p>6000 rows × 3 columns</p>\n",
       "</div>"
      ],
      "text/plain": [
       "      userID  trackID  ground_truth\n",
       "0     200031    30877             1\n",
       "1     200031     8244             1\n",
       "2     200031   130183             0\n",
       "3     200031   198762             0\n",
       "4     200031    34503             1\n",
       "...      ...      ...           ...\n",
       "5995  212234   137371             0\n",
       "5996  212234    42375             0\n",
       "5997  212234   277867             1\n",
       "5998  212234    83093             1\n",
       "5999  212234   239143             1\n",
       "\n",
       "[6000 rows x 3 columns]"
      ]
     },
     "execution_count": 3,
     "metadata": {},
     "output_type": "execute_result"
    }
   ],
   "source": [
    "ground_truth_columns = ['userID', 'trackID', 'ground_truth']\n",
    "ground_truth_df = pd.read_csv('test2_new.txt', sep='|', names=ground_truth_columns)\n",
    "ground_truth_df"
   ]
  },
  {
   "cell_type": "code",
   "execution_count": 4,
   "metadata": {},
   "outputs": [
    {
     "data": {
      "text/html": [
       "<div>\n",
       "<style scoped>\n",
       "    .dataframe tbody tr th:only-of-type {\n",
       "        vertical-align: middle;\n",
       "    }\n",
       "\n",
       "    .dataframe tbody tr th {\n",
       "        vertical-align: top;\n",
       "    }\n",
       "\n",
       "    .dataframe thead th {\n",
       "        text-align: right;\n",
       "    }\n",
       "</style>\n",
       "<table border=\"1\" class=\"dataframe\">\n",
       "  <thead>\n",
       "    <tr style=\"text-align: right;\">\n",
       "      <th></th>\n",
       "      <th>userID</th>\n",
       "      <th>trackID</th>\n",
       "      <th>album_score</th>\n",
       "      <th>artist_score</th>\n",
       "    </tr>\n",
       "  </thead>\n",
       "  <tbody>\n",
       "    <tr>\n",
       "      <th>0</th>\n",
       "      <td>199810</td>\n",
       "      <td>208019</td>\n",
       "      <td>0.0</td>\n",
       "      <td>0.0</td>\n",
       "    </tr>\n",
       "    <tr>\n",
       "      <th>1</th>\n",
       "      <td>199810</td>\n",
       "      <td>74139</td>\n",
       "      <td>0.0</td>\n",
       "      <td>0.0</td>\n",
       "    </tr>\n",
       "    <tr>\n",
       "      <th>2</th>\n",
       "      <td>199810</td>\n",
       "      <td>9903</td>\n",
       "      <td>0.0</td>\n",
       "      <td>0.0</td>\n",
       "    </tr>\n",
       "    <tr>\n",
       "      <th>3</th>\n",
       "      <td>199810</td>\n",
       "      <td>242681</td>\n",
       "      <td>0.0</td>\n",
       "      <td>0.0</td>\n",
       "    </tr>\n",
       "    <tr>\n",
       "      <th>4</th>\n",
       "      <td>199810</td>\n",
       "      <td>18515</td>\n",
       "      <td>0.0</td>\n",
       "      <td>70.0</td>\n",
       "    </tr>\n",
       "    <tr>\n",
       "      <th>...</th>\n",
       "      <td>...</td>\n",
       "      <td>...</td>\n",
       "      <td>...</td>\n",
       "      <td>...</td>\n",
       "    </tr>\n",
       "    <tr>\n",
       "      <th>119995</th>\n",
       "      <td>249010</td>\n",
       "      <td>72192</td>\n",
       "      <td>0.0</td>\n",
       "      <td>0.0</td>\n",
       "    </tr>\n",
       "    <tr>\n",
       "      <th>119996</th>\n",
       "      <td>249010</td>\n",
       "      <td>86104</td>\n",
       "      <td>0.0</td>\n",
       "      <td>0.0</td>\n",
       "    </tr>\n",
       "    <tr>\n",
       "      <th>119997</th>\n",
       "      <td>249010</td>\n",
       "      <td>186634</td>\n",
       "      <td>90.0</td>\n",
       "      <td>90.0</td>\n",
       "    </tr>\n",
       "    <tr>\n",
       "      <th>119998</th>\n",
       "      <td>249010</td>\n",
       "      <td>293818</td>\n",
       "      <td>0.0</td>\n",
       "      <td>0.0</td>\n",
       "    </tr>\n",
       "    <tr>\n",
       "      <th>119999</th>\n",
       "      <td>249010</td>\n",
       "      <td>262811</td>\n",
       "      <td>90.0</td>\n",
       "      <td>90.0</td>\n",
       "    </tr>\n",
       "  </tbody>\n",
       "</table>\n",
       "<p>120000 rows × 4 columns</p>\n",
       "</div>"
      ],
      "text/plain": [
       "        userID  trackID  album_score  artist_score\n",
       "0       199810   208019          0.0           0.0\n",
       "1       199810    74139          0.0           0.0\n",
       "2       199810     9903          0.0           0.0\n",
       "3       199810   242681          0.0           0.0\n",
       "4       199810    18515          0.0          70.0\n",
       "...        ...      ...          ...           ...\n",
       "119995  249010    72192          0.0           0.0\n",
       "119996  249010    86104          0.0           0.0\n",
       "119997  249010   186634         90.0          90.0\n",
       "119998  249010   293818          0.0           0.0\n",
       "119999  249010   262811         90.0          90.0\n",
       "\n",
       "[120000 rows x 4 columns]"
      ]
     },
     "execution_count": 4,
     "metadata": {},
     "output_type": "execute_result"
    }
   ],
   "source": [
    "scores_columns = ['userID', 'trackID', 'album_score', 'artist_score']\n",
    "scores_df = pd.read_csv('output1_no_genre.txt', sep='|', names=scores_columns)\n",
    "scores_df"
   ]
  },
  {
   "cell_type": "code",
   "execution_count": 5,
   "metadata": {},
   "outputs": [
    {
     "data": {
      "text/html": [
       "<div>\n",
       "<style scoped>\n",
       "    .dataframe tbody tr th:only-of-type {\n",
       "        vertical-align: middle;\n",
       "    }\n",
       "\n",
       "    .dataframe tbody tr th {\n",
       "        vertical-align: top;\n",
       "    }\n",
       "\n",
       "    .dataframe thead th {\n",
       "        text-align: right;\n",
       "    }\n",
       "</style>\n",
       "<table border=\"1\" class=\"dataframe\">\n",
       "  <thead>\n",
       "    <tr style=\"text-align: right;\">\n",
       "      <th></th>\n",
       "      <th>userID</th>\n",
       "      <th>trackID</th>\n",
       "      <th>ground_truth</th>\n",
       "      <th>album_score</th>\n",
       "      <th>artist_score</th>\n",
       "    </tr>\n",
       "  </thead>\n",
       "  <tbody>\n",
       "    <tr>\n",
       "      <th>0</th>\n",
       "      <td>200031</td>\n",
       "      <td>30877</td>\n",
       "      <td>1</td>\n",
       "      <td>90.0</td>\n",
       "      <td>50.0</td>\n",
       "    </tr>\n",
       "    <tr>\n",
       "      <th>1</th>\n",
       "      <td>200031</td>\n",
       "      <td>8244</td>\n",
       "      <td>1</td>\n",
       "      <td>90.0</td>\n",
       "      <td>0.0</td>\n",
       "    </tr>\n",
       "    <tr>\n",
       "      <th>2</th>\n",
       "      <td>200031</td>\n",
       "      <td>130183</td>\n",
       "      <td>0</td>\n",
       "      <td>0.0</td>\n",
       "      <td>0.0</td>\n",
       "    </tr>\n",
       "    <tr>\n",
       "      <th>3</th>\n",
       "      <td>200031</td>\n",
       "      <td>198762</td>\n",
       "      <td>0</td>\n",
       "      <td>0.0</td>\n",
       "      <td>0.0</td>\n",
       "    </tr>\n",
       "    <tr>\n",
       "      <th>4</th>\n",
       "      <td>200031</td>\n",
       "      <td>34503</td>\n",
       "      <td>1</td>\n",
       "      <td>90.0</td>\n",
       "      <td>50.0</td>\n",
       "    </tr>\n",
       "    <tr>\n",
       "      <th>...</th>\n",
       "      <td>...</td>\n",
       "      <td>...</td>\n",
       "      <td>...</td>\n",
       "      <td>...</td>\n",
       "      <td>...</td>\n",
       "    </tr>\n",
       "    <tr>\n",
       "      <th>5995</th>\n",
       "      <td>212234</td>\n",
       "      <td>137371</td>\n",
       "      <td>0</td>\n",
       "      <td>0.0</td>\n",
       "      <td>0.0</td>\n",
       "    </tr>\n",
       "    <tr>\n",
       "      <th>5996</th>\n",
       "      <td>212234</td>\n",
       "      <td>42375</td>\n",
       "      <td>0</td>\n",
       "      <td>0.0</td>\n",
       "      <td>0.0</td>\n",
       "    </tr>\n",
       "    <tr>\n",
       "      <th>5997</th>\n",
       "      <td>212234</td>\n",
       "      <td>277867</td>\n",
       "      <td>1</td>\n",
       "      <td>90.0</td>\n",
       "      <td>90.0</td>\n",
       "    </tr>\n",
       "    <tr>\n",
       "      <th>5998</th>\n",
       "      <td>212234</td>\n",
       "      <td>83093</td>\n",
       "      <td>1</td>\n",
       "      <td>90.0</td>\n",
       "      <td>90.0</td>\n",
       "    </tr>\n",
       "    <tr>\n",
       "      <th>5999</th>\n",
       "      <td>212234</td>\n",
       "      <td>239143</td>\n",
       "      <td>1</td>\n",
       "      <td>90.0</td>\n",
       "      <td>90.0</td>\n",
       "    </tr>\n",
       "  </tbody>\n",
       "</table>\n",
       "<p>6000 rows × 5 columns</p>\n",
       "</div>"
      ],
      "text/plain": [
       "      userID  trackID  ground_truth  album_score  artist_score\n",
       "0     200031    30877             1         90.0          50.0\n",
       "1     200031     8244             1         90.0           0.0\n",
       "2     200031   130183             0          0.0           0.0\n",
       "3     200031   198762             0          0.0           0.0\n",
       "4     200031    34503             1         90.0          50.0\n",
       "...      ...      ...           ...          ...           ...\n",
       "5995  212234   137371             0          0.0           0.0\n",
       "5996  212234    42375             0          0.0           0.0\n",
       "5997  212234   277867             1         90.0          90.0\n",
       "5998  212234    83093             1         90.0          90.0\n",
       "5999  212234   239143             1         90.0          90.0\n",
       "\n",
       "[6000 rows x 5 columns]"
      ]
     },
     "execution_count": 5,
     "metadata": {},
     "output_type": "execute_result"
    }
   ],
   "source": [
    "ratings_df = ground_truth_df.merge(scores_df, on=['userID', 'trackID']).fillna(0)    # inner join by default\n",
    "ratings_df"
   ]
  },
  {
   "cell_type": "code",
   "execution_count": 6,
   "metadata": {},
   "outputs": [],
   "source": [
    "ratings_df.to_csv('ratings.csv', index=None)    # index=None means index column is not written to csv"
   ]
  },
  {
   "cell_type": "code",
   "execution_count": 7,
   "metadata": {},
   "outputs": [
    {
     "data": {
      "text/html": [
       "<div>\n",
       "<style scoped>\n",
       "    .dataframe tbody tr th:only-of-type {\n",
       "        vertical-align: middle;\n",
       "    }\n",
       "\n",
       "    .dataframe tbody tr th {\n",
       "        vertical-align: top;\n",
       "    }\n",
       "\n",
       "    .dataframe thead th {\n",
       "        text-align: right;\n",
       "    }\n",
       "</style>\n",
       "<table border=\"1\" class=\"dataframe\">\n",
       "  <thead>\n",
       "    <tr style=\"text-align: right;\">\n",
       "      <th></th>\n",
       "      <th>userID</th>\n",
       "      <th>trackID</th>\n",
       "      <th>album_score</th>\n",
       "      <th>artist_score</th>\n",
       "    </tr>\n",
       "    <tr>\n",
       "      <th>ground_truth</th>\n",
       "      <th></th>\n",
       "      <th></th>\n",
       "      <th></th>\n",
       "      <th></th>\n",
       "    </tr>\n",
       "  </thead>\n",
       "  <tbody>\n",
       "    <tr>\n",
       "      <th>0</th>\n",
       "      <td>3000</td>\n",
       "      <td>3000</td>\n",
       "      <td>3000</td>\n",
       "      <td>3000</td>\n",
       "    </tr>\n",
       "    <tr>\n",
       "      <th>1</th>\n",
       "      <td>3000</td>\n",
       "      <td>3000</td>\n",
       "      <td>3000</td>\n",
       "      <td>3000</td>\n",
       "    </tr>\n",
       "  </tbody>\n",
       "</table>\n",
       "</div>"
      ],
      "text/plain": [
       "              userID  trackID  album_score  artist_score\n",
       "ground_truth                                            \n",
       "0               3000     3000         3000          3000\n",
       "1               3000     3000         3000          3000"
      ]
     },
     "execution_count": 7,
     "metadata": {},
     "output_type": "execute_result"
    }
   ],
   "source": [
    "ratings_df = spark.read.csv('ratings.csv', header=True, inferSchema=True)    # inferSchema scans csv twice to get datatype of each column\n",
    "ratings_df\n",
    "ratings_df.count()\n",
    "ratings_columns = ratings_df.columns\n",
    "pd.DataFrame(ratings_df.take(6000), columns=ratings_columns).groupby('ground_truth').count()"
   ]
  },
  {
   "cell_type": "code",
   "execution_count": 8,
   "metadata": {},
   "outputs": [
    {
     "name": "stdout",
     "output_type": "stream",
     "text": [
      "root\n",
      " |-- userID: integer (nullable = true)\n",
      " |-- trackID: integer (nullable = true)\n",
      " |-- ground_truth: integer (nullable = true)\n",
      " |-- album_score: double (nullable = true)\n",
      " |-- artist_score: double (nullable = true)\n",
      "\n"
     ]
    }
   ],
   "source": [
    "ratings_df.printSchema()"
   ]
  },
  {
   "cell_type": "code",
   "execution_count": 9,
   "metadata": {},
   "outputs": [
    {
     "data": {
      "text/plain": [
       "[('userID', 'int'),\n",
       " ('trackID', 'int'),\n",
       " ('ground_truth', 'string'),\n",
       " ('album_score', 'double'),\n",
       " ('artist_score', 'double')]"
      ]
     },
     "execution_count": 9,
     "metadata": {},
     "output_type": "execute_result"
    }
   ],
   "source": [
    "ratings_df = ratings_df.withColumn('ground_truth', ratings_df['ground_truth'].cast('string'))\n",
    "ratings_df.dtypes"
   ]
  },
  {
   "cell_type": "code",
   "execution_count": 10,
   "metadata": {},
   "outputs": [],
   "source": [
    "feature_columns = ['album_score', 'artist_score']\n",
    "stages = []\n",
    "assembler_inputs = feature_columns\n",
    "assembler = VectorAssembler(inputCols=assembler_inputs, outputCol='features')    # merges multiple columns into a vector column\n",
    "stages += [assembler]"
   ]
  },
  {
   "cell_type": "code",
   "execution_count": 11,
   "metadata": {},
   "outputs": [],
   "source": [
    "label_column = 'ground_truth'\n",
    "label_string_idx = StringIndexer(inputCol=label_column, outputCol='label')\n",
    "stages += [label_string_idx]"
   ]
  },
  {
   "cell_type": "code",
   "execution_count": 12,
   "metadata": {},
   "outputs": [
    {
     "name": "stdout",
     "output_type": "stream",
     "text": [
      "root\n",
      " |-- label: double (nullable = false)\n",
      " |-- features: vector (nullable = true)\n",
      " |-- userID: integer (nullable = true)\n",
      " |-- trackID: integer (nullable = true)\n",
      " |-- ground_truth: string (nullable = true)\n",
      " |-- album_score: double (nullable = true)\n",
      " |-- artist_score: double (nullable = true)\n",
      "\n"
     ]
    }
   ],
   "source": [
    "pipeline = Pipeline(stages=stages)               # initialize the pipeline\n",
    "pipeline_model = pipeline.fit(ratings_df)        # fit the pipeline model\n",
    "train_df = pipeline_model.transform(ratings_df)  # transform the input DF with the pipeline model\n",
    "\n",
    "selected_columns = ['label', 'features'] + ratings_columns\n",
    "train_df = train_df.select(selected_columns)\n",
    "train_df.printSchema()"
   ]
  },
  {
   "cell_type": "code",
   "execution_count": 13,
   "metadata": {},
   "outputs": [
    {
     "data": {
      "text/html": [
       "<div>\n",
       "<style scoped>\n",
       "    .dataframe tbody tr th:only-of-type {\n",
       "        vertical-align: middle;\n",
       "    }\n",
       "\n",
       "    .dataframe tbody tr th {\n",
       "        vertical-align: top;\n",
       "    }\n",
       "\n",
       "    .dataframe thead th {\n",
       "        text-align: right;\n",
       "    }\n",
       "</style>\n",
       "<table border=\"1\" class=\"dataframe\">\n",
       "  <thead>\n",
       "    <tr style=\"text-align: right;\">\n",
       "      <th></th>\n",
       "      <th>0</th>\n",
       "      <th>1</th>\n",
       "      <th>2</th>\n",
       "      <th>3</th>\n",
       "      <th>4</th>\n",
       "    </tr>\n",
       "  </thead>\n",
       "  <tbody>\n",
       "    <tr>\n",
       "      <th>label</th>\n",
       "      <td>1</td>\n",
       "      <td>1</td>\n",
       "      <td>0</td>\n",
       "      <td>0</td>\n",
       "      <td>1</td>\n",
       "    </tr>\n",
       "    <tr>\n",
       "      <th>features</th>\n",
       "      <td>[90.0, 50.0]</td>\n",
       "      <td>[90.0, 0.0]</td>\n",
       "      <td>(0.0, 0.0)</td>\n",
       "      <td>(0.0, 0.0)</td>\n",
       "      <td>[90.0, 50.0]</td>\n",
       "    </tr>\n",
       "    <tr>\n",
       "      <th>userID</th>\n",
       "      <td>200031</td>\n",
       "      <td>200031</td>\n",
       "      <td>200031</td>\n",
       "      <td>200031</td>\n",
       "      <td>200031</td>\n",
       "    </tr>\n",
       "    <tr>\n",
       "      <th>trackID</th>\n",
       "      <td>30877</td>\n",
       "      <td>8244</td>\n",
       "      <td>130183</td>\n",
       "      <td>198762</td>\n",
       "      <td>34503</td>\n",
       "    </tr>\n",
       "    <tr>\n",
       "      <th>ground_truth</th>\n",
       "      <td>1</td>\n",
       "      <td>1</td>\n",
       "      <td>0</td>\n",
       "      <td>0</td>\n",
       "      <td>1</td>\n",
       "    </tr>\n",
       "    <tr>\n",
       "      <th>album_score</th>\n",
       "      <td>90</td>\n",
       "      <td>90</td>\n",
       "      <td>0</td>\n",
       "      <td>0</td>\n",
       "      <td>90</td>\n",
       "    </tr>\n",
       "    <tr>\n",
       "      <th>artist_score</th>\n",
       "      <td>50</td>\n",
       "      <td>0</td>\n",
       "      <td>0</td>\n",
       "      <td>0</td>\n",
       "      <td>50</td>\n",
       "    </tr>\n",
       "  </tbody>\n",
       "</table>\n",
       "</div>"
      ],
      "text/plain": [
       "                         0            1           2           3             4\n",
       "label                    1            1           0           0             1\n",
       "features      [90.0, 50.0]  [90.0, 0.0]  (0.0, 0.0)  (0.0, 0.0)  [90.0, 50.0]\n",
       "userID              200031       200031      200031      200031        200031\n",
       "trackID              30877         8244      130183      198762         34503\n",
       "ground_truth             1            1           0           0             1\n",
       "album_score             90           90           0           0            90\n",
       "artist_score            50            0           0           0            50"
      ]
     },
     "execution_count": 13,
     "metadata": {},
     "output_type": "execute_result"
    }
   ],
   "source": [
    "pd.DataFrame(train_df.take(5), columns=train_df.columns).transpose()"
   ]
  },
  {
   "cell_type": "code",
   "execution_count": 14,
   "metadata": {},
   "outputs": [
    {
     "name": "stdout",
     "output_type": "stream",
     "text": [
      "Training Dataset Count: 4260\n",
      "Test Dataset Count: 1740\n"
     ]
    }
   ],
   "source": [
    "train_df, test_df = train_df.randomSplit([0.7, 0.3], seed=2018)\n",
    "print(f'Training Dataset Count: {train_df.count()}')\n",
    "print(f'Test Dataset Count: {test_df.count()}')"
   ]
  },
  {
   "cell_type": "code",
   "execution_count": 15,
   "metadata": {},
   "outputs": [
    {
     "data": {
      "text/plain": [
       "120000"
      ]
     },
     "execution_count": 15,
     "metadata": {},
     "output_type": "execute_result"
    }
   ],
   "source": [
    "#Load in and prepare prediction file\n",
    "\n",
    "prediction_df = spark.read.csv('output1_no_genre.txt', sep='|', inferSchema=True)    # inferSchema scans csv twice to get datatype of each column\n",
    "prediction_df.count()"
   ]
  },
  {
   "cell_type": "code",
   "execution_count": 16,
   "metadata": {},
   "outputs": [
    {
     "data": {
      "text/plain": [
       "['userID', 'trackID', 'albumScore', 'artistScore']"
      ]
     },
     "execution_count": 16,
     "metadata": {},
     "output_type": "execute_result"
    }
   ],
   "source": [
    "prediction_df = prediction_df.withColumnRenamed(\"_c0\", \"userID\").withColumnRenamed(\"_c1\", \"trackID\").withColumnRenamed(\"_c2\", \"albumScore\").withColumnRenamed(\"_c3\", \"artistScore\")\n",
    "prediction_columns = prediction_df.columns\n",
    "prediction_columns"
   ]
  },
  {
   "cell_type": "code",
   "execution_count": 17,
   "metadata": {},
   "outputs": [
    {
     "data": {
      "text/html": [
       "<div>\n",
       "<style scoped>\n",
       "    .dataframe tbody tr th:only-of-type {\n",
       "        vertical-align: middle;\n",
       "    }\n",
       "\n",
       "    .dataframe tbody tr th {\n",
       "        vertical-align: top;\n",
       "    }\n",
       "\n",
       "    .dataframe thead th {\n",
       "        text-align: right;\n",
       "    }\n",
       "</style>\n",
       "<table border=\"1\" class=\"dataframe\">\n",
       "  <thead>\n",
       "    <tr style=\"text-align: right;\">\n",
       "      <th></th>\n",
       "      <th>0</th>\n",
       "      <th>1</th>\n",
       "      <th>2</th>\n",
       "      <th>3</th>\n",
       "      <th>4</th>\n",
       "    </tr>\n",
       "  </thead>\n",
       "  <tbody>\n",
       "    <tr>\n",
       "      <th>userID</th>\n",
       "      <td>199810</td>\n",
       "      <td>199810</td>\n",
       "      <td>199810</td>\n",
       "      <td>199810</td>\n",
       "      <td>199810</td>\n",
       "    </tr>\n",
       "    <tr>\n",
       "      <th>trackID</th>\n",
       "      <td>208019</td>\n",
       "      <td>74139</td>\n",
       "      <td>9903</td>\n",
       "      <td>242681</td>\n",
       "      <td>18515</td>\n",
       "    </tr>\n",
       "    <tr>\n",
       "      <th>albumScore</th>\n",
       "      <td>0</td>\n",
       "      <td>0</td>\n",
       "      <td>0</td>\n",
       "      <td>0</td>\n",
       "      <td>0</td>\n",
       "    </tr>\n",
       "    <tr>\n",
       "      <th>artistScore</th>\n",
       "      <td>0</td>\n",
       "      <td>0</td>\n",
       "      <td>0</td>\n",
       "      <td>0</td>\n",
       "      <td>70</td>\n",
       "    </tr>\n",
       "    <tr>\n",
       "      <th>prediction</th>\n",
       "      <td>0</td>\n",
       "      <td>0</td>\n",
       "      <td>0</td>\n",
       "      <td>0</td>\n",
       "      <td>0</td>\n",
       "    </tr>\n",
       "  </tbody>\n",
       "</table>\n",
       "</div>"
      ],
      "text/plain": [
       "                  0       1       2       3       4\n",
       "userID       199810  199810  199810  199810  199810\n",
       "trackID      208019   74139    9903  242681   18515\n",
       "albumScore        0       0       0       0       0\n",
       "artistScore       0       0       0       0      70\n",
       "prediction        0       0       0       0       0"
      ]
     },
     "execution_count": 17,
     "metadata": {},
     "output_type": "execute_result"
    }
   ],
   "source": [
    "prediction_df = prediction_df.withColumn('prediction', lit('0'))\n",
    "pd.DataFrame(prediction_df.take(5), columns=prediction_df.columns).transpose()"
   ]
  },
  {
   "cell_type": "code",
   "execution_count": 18,
   "metadata": {},
   "outputs": [
    {
     "name": "stdout",
     "output_type": "stream",
     "text": [
      "root\n",
      " |-- userID: integer (nullable = true)\n",
      " |-- trackID: integer (nullable = true)\n",
      " |-- albumScore: double (nullable = true)\n",
      " |-- artistScore: double (nullable = true)\n",
      " |-- prediction: string (nullable = false)\n",
      "\n"
     ]
    }
   ],
   "source": [
    "prediction_df.printSchema()"
   ]
  },
  {
   "cell_type": "code",
   "execution_count": 19,
   "metadata": {},
   "outputs": [
    {
     "name": "stdout",
     "output_type": "stream",
     "text": [
      "root\n",
      " |-- label: double (nullable = false)\n",
      " |-- features: vector (nullable = true)\n",
      " |-- userID: integer (nullable = true)\n",
      " |-- trackID: integer (nullable = true)\n",
      " |-- albumScore: double (nullable = true)\n",
      " |-- artistScore: double (nullable = true)\n",
      "\n"
     ]
    }
   ],
   "source": [
    "feature_columns = ['albumScore', 'artistScore']\n",
    "stages = []\n",
    "assembler_inputs = feature_columns\n",
    "assembler = VectorAssembler(inputCols=assembler_inputs, outputCol='features')    # merges multiple columns into a vector column\n",
    "stages += [assembler]\n",
    "\n",
    "label_column = 'prediction'\n",
    "label_string_idx = StringIndexer(inputCol=label_column, outputCol='label')\n",
    "stages += [label_string_idx]\n",
    "\n",
    "prediction_pipeline = Pipeline(stages=stages)                       # initialize the pipeline\n",
    "prediction_pipeline_model = prediction_pipeline.fit(prediction_df)  # fit the pipeline model\n",
    "prediction_df = prediction_pipeline_model.transform(prediction_df)  # transform the input DF with the pipeline model\n",
    "\n",
    "selected_columns = ['label', 'features'] + prediction_columns\n",
    "prediction_df = prediction_df.select(selected_columns)\n",
    "prediction_df.printSchema()"
   ]
  },
  {
   "cell_type": "code",
   "execution_count": 20,
   "metadata": {},
   "outputs": [
    {
     "data": {
      "text/html": [
       "<div>\n",
       "<style scoped>\n",
       "    .dataframe tbody tr th:only-of-type {\n",
       "        vertical-align: middle;\n",
       "    }\n",
       "\n",
       "    .dataframe tbody tr th {\n",
       "        vertical-align: top;\n",
       "    }\n",
       "\n",
       "    .dataframe thead th {\n",
       "        text-align: right;\n",
       "    }\n",
       "</style>\n",
       "<table border=\"1\" class=\"dataframe\">\n",
       "  <thead>\n",
       "    <tr style=\"text-align: right;\">\n",
       "      <th></th>\n",
       "      <th>0</th>\n",
       "      <th>1</th>\n",
       "      <th>2</th>\n",
       "      <th>3</th>\n",
       "      <th>4</th>\n",
       "    </tr>\n",
       "  </thead>\n",
       "  <tbody>\n",
       "    <tr>\n",
       "      <th>label</th>\n",
       "      <td>0</td>\n",
       "      <td>0</td>\n",
       "      <td>0</td>\n",
       "      <td>0</td>\n",
       "      <td>0</td>\n",
       "    </tr>\n",
       "    <tr>\n",
       "      <th>features</th>\n",
       "      <td>(0.0, 0.0)</td>\n",
       "      <td>(0.0, 0.0)</td>\n",
       "      <td>(0.0, 0.0)</td>\n",
       "      <td>(0.0, 0.0)</td>\n",
       "      <td>[0.0, 70.0]</td>\n",
       "    </tr>\n",
       "    <tr>\n",
       "      <th>userID</th>\n",
       "      <td>199810</td>\n",
       "      <td>199810</td>\n",
       "      <td>199810</td>\n",
       "      <td>199810</td>\n",
       "      <td>199810</td>\n",
       "    </tr>\n",
       "    <tr>\n",
       "      <th>trackID</th>\n",
       "      <td>208019</td>\n",
       "      <td>74139</td>\n",
       "      <td>9903</td>\n",
       "      <td>242681</td>\n",
       "      <td>18515</td>\n",
       "    </tr>\n",
       "    <tr>\n",
       "      <th>albumScore</th>\n",
       "      <td>0</td>\n",
       "      <td>0</td>\n",
       "      <td>0</td>\n",
       "      <td>0</td>\n",
       "      <td>0</td>\n",
       "    </tr>\n",
       "    <tr>\n",
       "      <th>artistScore</th>\n",
       "      <td>0</td>\n",
       "      <td>0</td>\n",
       "      <td>0</td>\n",
       "      <td>0</td>\n",
       "      <td>70</td>\n",
       "    </tr>\n",
       "  </tbody>\n",
       "</table>\n",
       "</div>"
      ],
      "text/plain": [
       "                      0           1           2           3            4\n",
       "label                 0           0           0           0            0\n",
       "features     (0.0, 0.0)  (0.0, 0.0)  (0.0, 0.0)  (0.0, 0.0)  [0.0, 70.0]\n",
       "userID           199810      199810      199810      199810       199810\n",
       "trackID          208019       74139        9903      242681        18515\n",
       "albumScore            0           0           0           0            0\n",
       "artistScore           0           0           0           0           70"
      ]
     },
     "execution_count": 20,
     "metadata": {},
     "output_type": "execute_result"
    }
   ],
   "source": [
    "pd.DataFrame(prediction_df.take(5), columns=prediction_df.columns).transpose()"
   ]
  },
  {
   "cell_type": "code",
   "execution_count": 21,
   "metadata": {},
   "outputs": [
    {
     "name": "stdout",
     "output_type": "stream",
     "text": [
      "Done! Time elapsed - 5.49 seconds.\n"
     ]
    }
   ],
   "source": [
    "# Model- Logistic Regression\n",
    "\n",
    "from pyspark.ml.classification import LogisticRegression\n",
    "\n",
    "start_time = time.time()\n",
    "\n",
    "lr = LogisticRegression(featuresCol = 'features', labelCol = 'label', maxIter=100)  # initialize a logistic regression model\n",
    "lr_model = lr.fit(train_df)                                                         # fit the training data with the model\n",
    "\n",
    "end_time = time.time()\n",
    "elapsed_time = end_time - start_time\n",
    "print(f'Done! Time elapsed - {elapsed_time:.2f} seconds.')"
   ]
  },
  {
   "cell_type": "code",
   "execution_count": 22,
   "metadata": {},
   "outputs": [
    {
     "data": {
      "text/plain": [
       "DenseVector([0.0452, 0.0326])"
      ]
     },
     "execution_count": 22,
     "metadata": {},
     "output_type": "execute_result"
    }
   ],
   "source": [
    "lr_model.coefficients"
   ]
  },
  {
   "cell_type": "code",
   "execution_count": 23,
   "metadata": {},
   "outputs": [
    {
     "data": {
      "text/plain": [
       "array([0.03256798, 0.04519993])"
      ]
     },
     "execution_count": 23,
     "metadata": {},
     "output_type": "execute_result"
    }
   ],
   "source": [
    "beta = np.sort(lr_model.coefficients)    # return a sorted copy of an array\n",
    "beta"
   ]
  },
  {
   "cell_type": "code",
   "execution_count": 24,
   "metadata": {},
   "outputs": [
    {
     "data": {
      "image/png": "[encoded data removed]",
      "text/plain": [
       "<Figure size 432x288 with 1 Axes>"
      ]
     },
     "metadata": {
      "needs_background": "light"
     },
     "output_type": "display_data"
    }
   ],
   "source": [
    "plt.plot(beta)\n",
    "plt.ylabel('Beta Coefficients')\n",
    "plt.show()"
   ]
  },
  {
   "cell_type": "code",
   "execution_count": 25,
   "metadata": {},
   "outputs": [
    {
     "data": {
      "text/html": [
       "<div>\n",
       "<style scoped>\n",
       "    .dataframe tbody tr th:only-of-type {\n",
       "        vertical-align: middle;\n",
       "    }\n",
       "\n",
       "    .dataframe tbody tr th {\n",
       "        vertical-align: top;\n",
       "    }\n",
       "\n",
       "    .dataframe thead th {\n",
       "        text-align: right;\n",
       "    }\n",
       "</style>\n",
       "<table border=\"1\" class=\"dataframe\">\n",
       "  <thead>\n",
       "    <tr style=\"text-align: right;\">\n",
       "      <th></th>\n",
       "      <th>FPR</th>\n",
       "      <th>TPR</th>\n",
       "    </tr>\n",
       "  </thead>\n",
       "  <tbody>\n",
       "    <tr>\n",
       "      <th>0</th>\n",
       "      <td>0.000000</td>\n",
       "      <td>0.000000</td>\n",
       "    </tr>\n",
       "    <tr>\n",
       "      <th>1</th>\n",
       "      <td>0.000000</td>\n",
       "      <td>0.039683</td>\n",
       "    </tr>\n",
       "    <tr>\n",
       "      <th>2</th>\n",
       "      <td>0.000000</td>\n",
       "      <td>0.040149</td>\n",
       "    </tr>\n",
       "    <tr>\n",
       "      <th>3</th>\n",
       "      <td>0.000000</td>\n",
       "      <td>0.040616</td>\n",
       "    </tr>\n",
       "    <tr>\n",
       "      <th>4</th>\n",
       "      <td>0.000000</td>\n",
       "      <td>0.041083</td>\n",
       "    </tr>\n",
       "    <tr>\n",
       "      <th>...</th>\n",
       "      <td>...</td>\n",
       "      <td>...</td>\n",
       "    </tr>\n",
       "    <tr>\n",
       "      <th>88</th>\n",
       "      <td>0.076015</td>\n",
       "      <td>0.783847</td>\n",
       "    </tr>\n",
       "    <tr>\n",
       "      <th>89</th>\n",
       "      <td>0.076487</td>\n",
       "      <td>0.783847</td>\n",
       "    </tr>\n",
       "    <tr>\n",
       "      <th>90</th>\n",
       "      <td>0.076959</td>\n",
       "      <td>0.783847</td>\n",
       "    </tr>\n",
       "    <tr>\n",
       "      <th>91</th>\n",
       "      <td>1.000000</td>\n",
       "      <td>1.000000</td>\n",
       "    </tr>\n",
       "    <tr>\n",
       "      <th>92</th>\n",
       "      <td>1.000000</td>\n",
       "      <td>1.000000</td>\n",
       "    </tr>\n",
       "  </tbody>\n",
       "</table>\n",
       "<p>93 rows × 2 columns</p>\n",
       "</div>"
      ],
      "text/plain": [
       "         FPR       TPR\n",
       "0   0.000000  0.000000\n",
       "1   0.000000  0.039683\n",
       "2   0.000000  0.040149\n",
       "3   0.000000  0.040616\n",
       "4   0.000000  0.041083\n",
       "..       ...       ...\n",
       "88  0.076015  0.783847\n",
       "89  0.076487  0.783847\n",
       "90  0.076959  0.783847\n",
       "91  1.000000  1.000000\n",
       "92  1.000000  1.000000\n",
       "\n",
       "[93 rows x 2 columns]"
      ]
     },
     "execution_count": 25,
     "metadata": {},
     "output_type": "execute_result"
    }
   ],
   "source": [
    "training_summary = lr_model.summary    # get summary (e.g. accuracy/precision/recall, objective history, total iterations) of model trained on the training set\n",
    "roc = training_summary.roc.toPandas()    # get roc DF\n",
    "roc"
   ]
  },
  {
   "cell_type": "code",
   "execution_count": 26,
   "metadata": {},
   "outputs": [
    {
     "data": {
      "image/png": "[encoded data removed]",
      "text/plain": [
       "<Figure size 432x288 with 1 Axes>"
      ]
     },
     "metadata": {
      "needs_background": "light"
     },
     "output_type": "display_data"
    },
    {
     "name": "stdout",
     "output_type": "stream",
     "text": [
      "Training Set AUC = 0.8737133978552075\n"
     ]
    }
   ],
   "source": [
    "plt.plot(roc.FPR, roc.TPR)\n",
    "plt.xlabel('False Positive Rate')\n",
    "plt.ylabel('True Positive Rate')\n",
    "plt.title('ROC Curve - Logistic Regression')\n",
    "plt.show()\n",
    "print(f'Training Set AUC = {training_summary.areaUnderROC}')"
   ]
  },
  {
   "cell_type": "code",
   "execution_count": 27,
   "metadata": {},
   "outputs": [
    {
     "name": "stdout",
     "output_type": "stream",
     "text": [
      "+------+-------+-----+--------------------+--------------------+----------+\n",
      "|userID|trackID|label|         probability|       rawPrediction|prediction|\n",
      "+------+-------+-----+--------------------+--------------------+----------+\n",
      "|200031| 130183|  0.0|[0.80218267023863...|[1.39999232241291...|       0.0|\n",
      "|200065| 179571|  0.0|[0.80218267023863...|[1.39999232241291...|       0.0|\n",
      "|200070| 124239|  0.0|[0.80218267023863...|[1.39999232241291...|       0.0|\n",
      "|200070| 271459|  0.0|[0.80218267023863...|[1.39999232241291...|       0.0|\n",
      "|200085| 134106|  0.0|[0.80218267023863...|[1.39999232241291...|       0.0|\n",
      "|200099|  41892|  0.0|[0.80218267023863...|[1.39999232241291...|       0.0|\n",
      "|200106| 152491|  0.0|[0.80218267023863...|[1.39999232241291...|       0.0|\n",
      "|200124| 284066|  0.0|[0.80218267023863...|[1.39999232241291...|       0.0|\n",
      "|200143| 131171|  0.0|[0.80218267023863...|[1.39999232241291...|       0.0|\n",
      "|200143| 187136|  0.0|[0.80218267023863...|[1.39999232241291...|       0.0|\n",
      "|200160| 231680|  0.0|[0.80218267023863...|[1.39999232241291...|       0.0|\n",
      "|200166| 193878|  0.0|[0.80218267023863...|[1.39999232241291...|       0.0|\n",
      "+------+-------+-----+--------------------+--------------------+----------+\n",
      "only showing top 12 rows\n",
      "\n"
     ]
    }
   ],
   "source": [
    "predictions = lr_model.transform(test_df)    # transform test_df with logistic regression model\n",
    "predictions.select('userID', 'trackID', 'label', 'probability', 'rawPrediction', 'prediction').show(12)"
   ]
  },
  {
   "cell_type": "code",
   "execution_count": 28,
   "metadata": {},
   "outputs": [
    {
     "name": "stdout",
     "output_type": "stream",
     "text": [
      "+------+-------+-----+--------------------+--------------------+----------+\n",
      "|userID|trackID|label|         probability|       rawPrediction|prediction|\n",
      "+------+-------+-----+--------------------+--------------------+----------+\n",
      "|200031| 130183|  0.0|[0.80218267023863...|[1.39999232241291...|       0.0|\n",
      "|200031|   8244|  1.0|[0.06488811545038...|[-2.6680016987576...|       1.0|\n",
      "|200031|  30877|  1.0|[0.01343454147672...|[-4.2964005650945...|       1.0|\n",
      "|200055|  56695|  1.0|[0.00368747275283...|[-5.5991196581640...|       1.0|\n",
      "|200065| 179571|  0.0|[0.80218267023863...|[1.39999232241291...|       0.0|\n",
      "|200065| 119451|  1.0|[0.17782905135233...|[-1.5311256369934...|       1.0|\n",
      "+------+-------+-----+--------------------+--------------------+----------+\n",
      "only showing top 6 rows\n",
      "\n"
     ]
    }
   ],
   "source": [
    "# col('userID').asc() sort the user ascending\n",
    "# col('probability').desc() sort the probability descending (from large to small)\n",
    "sort_predictions = predictions.select('userID', 'trackID', 'label', 'probability', 'rawPrediction', 'prediction').sort(col('userID').asc(), col('probability').desc())\n",
    "sort_predictions.show(6)"
   ]
  },
  {
   "cell_type": "code",
   "execution_count": 29,
   "metadata": {},
   "outputs": [
    {
     "name": "stdout",
     "output_type": "stream",
     "text": [
      "+------+-------+--------------------+--------------------+----------+\n",
      "|userID|trackID|         probability|       rawPrediction|prediction|\n",
      "+------+-------+--------------------+--------------------+----------+\n",
      "|199810| 208019|[0.80218267023863...|[1.39999232241291...|       0.0|\n",
      "|199810|  74139|[0.80218267023863...|[1.39999232241291...|       0.0|\n",
      "|199810|   9903|[0.80218267023863...|[1.39999232241291...|       0.0|\n",
      "|199810| 242681|[0.80218267023863...|[1.39999232241291...|       0.0|\n",
      "|199810|  18515|[0.29322625305511...|[-0.8797660904587...|       1.0|\n",
      "|199810| 105760|[0.17782905135233...|[-1.5311256369934...|       1.0|\n",
      "|199812| 276940|[0.80218267023863...|[1.39999232241291...|       0.0|\n",
      "|199812| 142408|[0.00169767114648...|[-6.3767987671170...|       1.0|\n",
      "|199812| 130023|[0.00169767114648...|[-6.3767987671170...|       1.0|\n",
      "|199812|  29189|[0.80218267023863...|[1.39999232241291...|       0.0|\n",
      "|199812| 223706|[0.13507584210861...|[-1.8568054102608...|       1.0|\n",
      "|199812| 211361|[0.80218267023863...|[1.39999232241291...|       0.0|\n",
      "+------+-------+--------------------+--------------------+----------+\n",
      "only showing top 12 rows\n",
      "\n"
     ]
    }
   ],
   "source": [
    "logistic_predictions = lr_model.transform(prediction_df)    # transform prediction_df with logistic regression model\n",
    "logistic_predictions.select('userID', 'trackID', 'probability', 'rawPrediction', 'prediction').show(12)"
   ]
  },
  {
   "cell_type": "code",
   "execution_count": 30,
   "metadata": {},
   "outputs": [
    {
     "name": "stdout",
     "output_type": "stream",
     "text": [
      "+------+-------+--------------------+--------------------+----------+\n",
      "|userID|trackID|         probability|       rawPrediction|prediction|\n",
      "+------+-------+--------------------+--------------------+----------+\n",
      "|199810| 208019|[0.80218267023863...|[1.39999232241291...|       0.0|\n",
      "|199810| 242681|[0.80218267023863...|[1.39999232241291...|       0.0|\n",
      "|199810|  74139|[0.80218267023863...|[1.39999232241291...|       0.0|\n",
      "|199810|   9903|[0.80218267023863...|[1.39999232241291...|       0.0|\n",
      "|199810|  18515|[0.29322625305511...|[-0.8797660904587...|       1.0|\n",
      "|199810| 105760|[0.17782905135233...|[-1.5311256369934...|       1.0|\n",
      "+------+-------+--------------------+--------------------+----------+\n",
      "only showing top 6 rows\n",
      "\n"
     ]
    }
   ],
   "source": [
    "# col('userID').asc() sort the user ascending\n",
    "# col('probability').desc() sort the probability descending (from large to small)\n",
    "sort_logistic_predictions = logistic_predictions.select('userID', 'trackID', 'probability', 'rawPrediction', 'prediction').sort(col('userID').asc(), col('probability').desc())\n",
    "sort_logistic_predictions.show(6)"
   ]
  },
  {
   "cell_type": "code",
   "execution_count": 31,
   "metadata": {},
   "outputs": [
    {
     "data": {
      "text/html": [
       "<div>\n",
       "<style scoped>\n",
       "    .dataframe tbody tr th:only-of-type {\n",
       "        vertical-align: middle;\n",
       "    }\n",
       "\n",
       "    .dataframe tbody tr th {\n",
       "        vertical-align: top;\n",
       "    }\n",
       "\n",
       "    .dataframe thead th {\n",
       "        text-align: right;\n",
       "    }\n",
       "</style>\n",
       "<table border=\"1\" class=\"dataframe\">\n",
       "  <thead>\n",
       "    <tr style=\"text-align: right;\">\n",
       "      <th></th>\n",
       "      <th>userID</th>\n",
       "      <th>trackID</th>\n",
       "      <th>probability</th>\n",
       "      <th>rawPrediction</th>\n",
       "      <th>prediction</th>\n",
       "    </tr>\n",
       "  </thead>\n",
       "  <tbody>\n",
       "    <tr>\n",
       "      <th>0</th>\n",
       "      <td>199810</td>\n",
       "      <td>208019</td>\n",
       "      <td>[0.8021826702386359, 0.19781732976136412]</td>\n",
       "      <td>[1.3999923224129167, -1.3999923224129167]</td>\n",
       "      <td>0.0</td>\n",
       "    </tr>\n",
       "    <tr>\n",
       "      <th>1</th>\n",
       "      <td>199810</td>\n",
       "      <td>74139</td>\n",
       "      <td>[0.8021826702386359, 0.19781732976136412]</td>\n",
       "      <td>[1.3999923224129167, -1.3999923224129167]</td>\n",
       "      <td>0.0</td>\n",
       "    </tr>\n",
       "    <tr>\n",
       "      <th>2</th>\n",
       "      <td>199810</td>\n",
       "      <td>9903</td>\n",
       "      <td>[0.8021826702386359, 0.19781732976136412]</td>\n",
       "      <td>[1.3999923224129167, -1.3999923224129167]</td>\n",
       "      <td>0.0</td>\n",
       "    </tr>\n",
       "    <tr>\n",
       "      <th>3</th>\n",
       "      <td>199810</td>\n",
       "      <td>242681</td>\n",
       "      <td>[0.8021826702386359, 0.19781732976136412]</td>\n",
       "      <td>[1.3999923224129167, -1.3999923224129167]</td>\n",
       "      <td>0.0</td>\n",
       "    </tr>\n",
       "    <tr>\n",
       "      <th>4</th>\n",
       "      <td>199810</td>\n",
       "      <td>18515</td>\n",
       "      <td>[0.29322625305511973, 0.7067737469448803]</td>\n",
       "      <td>[-0.8797660904587368, 0.8797660904587368]</td>\n",
       "      <td>1.0</td>\n",
       "    </tr>\n",
       "    <tr>\n",
       "      <th>...</th>\n",
       "      <td>...</td>\n",
       "      <td>...</td>\n",
       "      <td>...</td>\n",
       "      <td>...</td>\n",
       "      <td>...</td>\n",
       "    </tr>\n",
       "    <tr>\n",
       "      <th>119995</th>\n",
       "      <td>249010</td>\n",
       "      <td>86104</td>\n",
       "      <td>[0.8021826702386359, 0.19781732976136412]</td>\n",
       "      <td>[1.3999923224129167, -1.3999923224129167]</td>\n",
       "      <td>0.0</td>\n",
       "    </tr>\n",
       "    <tr>\n",
       "      <th>119996</th>\n",
       "      <td>249010</td>\n",
       "      <td>293818</td>\n",
       "      <td>[0.8021826702386359, 0.19781732976136412]</td>\n",
       "      <td>[1.3999923224129167, -1.3999923224129167]</td>\n",
       "      <td>0.0</td>\n",
       "    </tr>\n",
       "    <tr>\n",
       "      <th>119997</th>\n",
       "      <td>249010</td>\n",
       "      <td>110470</td>\n",
       "      <td>[0.0036874727528380885, 0.9963125272471619]</td>\n",
       "      <td>[-5.599119658164091, 5.599119658164091]</td>\n",
       "      <td>1.0</td>\n",
       "    </tr>\n",
       "    <tr>\n",
       "      <th>119998</th>\n",
       "      <td>249010</td>\n",
       "      <td>186634</td>\n",
       "      <td>[0.0036874727528380885, 0.9963125272471619]</td>\n",
       "      <td>[-5.599119658164091, 5.599119658164091]</td>\n",
       "      <td>1.0</td>\n",
       "    </tr>\n",
       "    <tr>\n",
       "      <th>119999</th>\n",
       "      <td>249010</td>\n",
       "      <td>262811</td>\n",
       "      <td>[0.0036874727528380885, 0.9963125272471619]</td>\n",
       "      <td>[-5.599119658164091, 5.599119658164091]</td>\n",
       "      <td>1.0</td>\n",
       "    </tr>\n",
       "  </tbody>\n",
       "</table>\n",
       "<p>120000 rows × 5 columns</p>\n",
       "</div>"
      ],
      "text/plain": [
       "        userID  trackID                                  probability  \\\n",
       "0       199810   208019    [0.8021826702386359, 0.19781732976136412]   \n",
       "1       199810    74139    [0.8021826702386359, 0.19781732976136412]   \n",
       "2       199810     9903    [0.8021826702386359, 0.19781732976136412]   \n",
       "3       199810   242681    [0.8021826702386359, 0.19781732976136412]   \n",
       "4       199810    18515    [0.29322625305511973, 0.7067737469448803]   \n",
       "...        ...      ...                                          ...   \n",
       "119995  249010    86104    [0.8021826702386359, 0.19781732976136412]   \n",
       "119996  249010   293818    [0.8021826702386359, 0.19781732976136412]   \n",
       "119997  249010   110470  [0.0036874727528380885, 0.9963125272471619]   \n",
       "119998  249010   186634  [0.0036874727528380885, 0.9963125272471619]   \n",
       "119999  249010   262811  [0.0036874727528380885, 0.9963125272471619]   \n",
       "\n",
       "                                    rawPrediction  prediction  \n",
       "0       [1.3999923224129167, -1.3999923224129167]         0.0  \n",
       "1       [1.3999923224129167, -1.3999923224129167]         0.0  \n",
       "2       [1.3999923224129167, -1.3999923224129167]         0.0  \n",
       "3       [1.3999923224129167, -1.3999923224129167]         0.0  \n",
       "4       [-0.8797660904587368, 0.8797660904587368]         1.0  \n",
       "...                                           ...         ...  \n",
       "119995  [1.3999923224129167, -1.3999923224129167]         0.0  \n",
       "119996  [1.3999923224129167, -1.3999923224129167]         0.0  \n",
       "119997    [-5.599119658164091, 5.599119658164091]         1.0  \n",
       "119998    [-5.599119658164091, 5.599119658164091]         1.0  \n",
       "119999    [-5.599119658164091, 5.599119658164091]         1.0  \n",
       "\n",
       "[120000 rows x 5 columns]"
      ]
     },
     "execution_count": 31,
     "metadata": {},
     "output_type": "execute_result"
    }
   ],
   "source": [
    "pd_sort_logistic_predictions = sort_logistic_predictions.toPandas().fillna(0.0)    # create a pandas df\n",
    "pd_sort_logistic_predictions"
   ]
  },
  {
   "cell_type": "code",
   "execution_count": 32,
   "metadata": {},
   "outputs": [],
   "source": [
    "columns_to_write = ['userID', 'trackID']\n",
    "pd_sort_logistic_predictions.to_csv('log_reg_predictions.csv', index=False, header=None, columns=columns_to_write)    # write to csv (without headers)"
   ]
  },
  {
   "cell_type": "code",
   "execution_count": 33,
   "metadata": {},
   "outputs": [
    {
     "data": {
      "text/plain": [
       "18"
      ]
     },
     "execution_count": 33,
     "metadata": {},
     "output_type": "execute_result"
    }
   ],
   "source": [
    "f_lr_predictions = open('log_reg_predictions.csv')                  \n",
    "f_lr_final_predictions = open('log_reg_final_predictions.csv', 'w')\n",
    "# Write header\n",
    "f_lr_final_predictions.write('TrackID,Predictor\\n')"
   ]
  },
  {
   "cell_type": "code",
   "execution_count": 34,
   "metadata": {},
   "outputs": [
    {
     "name": "stdout",
     "output_type": "stream",
     "text": [
      "Done! Time elapsed - 2.23 seconds.\n"
     ]
    }
   ],
   "source": [
    "# Initialize some values\n",
    "last_user_id = -1\n",
    "track_id_out_vec = [0] * 6\n",
    "\n",
    "start_time = time.time()\n",
    "\n",
    "# Go through each line of the predictions file\n",
    "for line in f_lr_predictions:\n",
    "    arr_out = line.strip().split(',')    # remove any spaces/new lines and create list \n",
    "    user_id_out = arr_out[0]             # set user\n",
    "    track_id_out = arr_out[1]            # set track\n",
    "    \n",
    "    if user_id_out != last_user_id:             # if new user reached\n",
    "        i = 0                                   # reset i\n",
    "        \n",
    "    track_id_out_vec[i] = track_id_out          # add trackID to trackID array\n",
    "        \n",
    "    i = i + 1                    # increment i\n",
    "    last_user_id = user_id_out   # set last_user_id as current userID\n",
    "    \n",
    "    if i == 6:                               # if last entry for current user reached\n",
    "        # Here we set the predictions \n",
    "        predictions = np.ones(shape=(6)) # initialize numpy array for predictions\n",
    "        for index in range(0, 3):            \n",
    "            predictions[index] = 0           # set first 3 values in array to 0 (other 3 are 1)\n",
    "        \n",
    "        # Here we write to the final predictions file for the 6 track predictions for the current user\n",
    "        for ii in range(0, 6):         \n",
    "            out_str = str(user_id_out) + '_' + str(track_id_out_vec[ii]) + ',' + str(int(predictions[ii]))\n",
    "            f_lr_final_predictions.write(out_str + '\\n')\n",
    "\n",
    "        \n",
    "end_time = time.time()\n",
    "elapsed_time = end_time - start_time\n",
    "print(f'Done! Time elapsed - {elapsed_time:.2f} seconds.')\n",
    "\n",
    "f_lr_predictions.close()\n",
    "f_lr_final_predictions.close()"
   ]
  },
  {
   "cell_type": "code",
   "execution_count": null,
   "metadata": {},
   "outputs": [],
   "source": []
  }
 ],
 "metadata": {
  "kernelspec": {
   "display_name": "Python 3",
   "language": "python",
   "name": "python3"
  },
  "language_info": {
   "codemirror_mode": {
    "name": "ipython",
    "version": 3
   },
   "file_extension": ".py",
   "mimetype": "text/x-python",
   "name": "python",
   "nbconvert_exporter": "python",
   "pygments_lexer": "ipython3",
   "version": "3.6.12"
  }
 },
 "nbformat": 4,
 "nbformat_minor": 4
}
